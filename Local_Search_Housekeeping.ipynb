{
  "nbformat": 4,
  "nbformat_minor": 0,
  "metadata": {
    "colab": {
      "provenance": [],
      "toc_visible": true,
      "mount_file_id": "1HfefZSvyef7hZTZsuetXncx75QTtMBps",
      "authorship_tag": "ABX9TyOCbY9lvSxoomrGqcZiTCl1",
      "include_colab_link": true
    },
    "kernelspec": {
      "name": "python3",
      "display_name": "Python 3"
    },
    "language_info": {
      "name": "python"
    }
  },
  "cells": [
    {
      "cell_type": "markdown",
      "metadata": {
        "id": "view-in-github",
        "colab_type": "text"
      },
      "source": [
        "<a href=\"https://colab.research.google.com/github/jonasvdbran/Masterthesis-SCRPPP/blob/main/Local_Search_Housekeeping.ipynb\" target=\"_parent\"><img src=\"https://colab.research.google.com/assets/colab-badge.svg\" alt=\"Open In Colab\"/></a>"
      ]
    },
    {
      "cell_type": "markdown",
      "source": [
        "First, we import the container_classes file. **Upload container_classes.py via the next block of code.**"
      ],
      "metadata": {
        "id": "tjYxGw9O612S"
      }
    },
    {
      "cell_type": "code",
      "source": [
        "from google.colab import files\n",
        "uploaded = files.upload()"
      ],
      "metadata": {
        "colab": {
          "base_uri": "https://localhost:8080/",
          "height": 69
        },
        "id": "X17FWmO48deJ",
        "outputId": "86fb1c51-1e17-48e8-d7cb-69e06d80c557"
      },
      "execution_count": 7,
      "outputs": [
        {
          "output_type": "display_data",
          "data": {
            "text/plain": [
              "<IPython.core.display.HTML object>"
            ],
            "text/html": [
              "\n",
              "     <input type=\"file\" id=\"files-8bc37be1-9c7f-4d73-9c40-e9b4b031b1cd\" name=\"files[]\" multiple disabled\n",
              "        style=\"border:none\" />\n",
              "     <output id=\"result-8bc37be1-9c7f-4d73-9c40-e9b4b031b1cd\">\n",
              "      Upload widget is only available when the cell has been executed in the\n",
              "      current browser session. Please rerun this cell to enable.\n",
              "      </output>\n",
              "      <script>// Copyright 2017 Google LLC\n",
              "//\n",
              "// Licensed under the Apache License, Version 2.0 (the \"License\");\n",
              "// you may not use this file except in compliance with the License.\n",
              "// You may obtain a copy of the License at\n",
              "//\n",
              "//      http://www.apache.org/licenses/LICENSE-2.0\n",
              "//\n",
              "// Unless required by applicable law or agreed to in writing, software\n",
              "// distributed under the License is distributed on an \"AS IS\" BASIS,\n",
              "// WITHOUT WARRANTIES OR CONDITIONS OF ANY KIND, either express or implied.\n",
              "// See the License for the specific language governing permissions and\n",
              "// limitations under the License.\n",
              "\n",
              "/**\n",
              " * @fileoverview Helpers for google.colab Python module.\n",
              " */\n",
              "(function(scope) {\n",
              "function span(text, styleAttributes = {}) {\n",
              "  const element = document.createElement('span');\n",
              "  element.textContent = text;\n",
              "  for (const key of Object.keys(styleAttributes)) {\n",
              "    element.style[key] = styleAttributes[key];\n",
              "  }\n",
              "  return element;\n",
              "}\n",
              "\n",
              "// Max number of bytes which will be uploaded at a time.\n",
              "const MAX_PAYLOAD_SIZE = 100 * 1024;\n",
              "\n",
              "function _uploadFiles(inputId, outputId) {\n",
              "  const steps = uploadFilesStep(inputId, outputId);\n",
              "  const outputElement = document.getElementById(outputId);\n",
              "  // Cache steps on the outputElement to make it available for the next call\n",
              "  // to uploadFilesContinue from Python.\n",
              "  outputElement.steps = steps;\n",
              "\n",
              "  return _uploadFilesContinue(outputId);\n",
              "}\n",
              "\n",
              "// This is roughly an async generator (not supported in the browser yet),\n",
              "// where there are multiple asynchronous steps and the Python side is going\n",
              "// to poll for completion of each step.\n",
              "// This uses a Promise to block the python side on completion of each step,\n",
              "// then passes the result of the previous step as the input to the next step.\n",
              "function _uploadFilesContinue(outputId) {\n",
              "  const outputElement = document.getElementById(outputId);\n",
              "  const steps = outputElement.steps;\n",
              "\n",
              "  const next = steps.next(outputElement.lastPromiseValue);\n",
              "  return Promise.resolve(next.value.promise).then((value) => {\n",
              "    // Cache the last promise value to make it available to the next\n",
              "    // step of the generator.\n",
              "    outputElement.lastPromiseValue = value;\n",
              "    return next.value.response;\n",
              "  });\n",
              "}\n",
              "\n",
              "/**\n",
              " * Generator function which is called between each async step of the upload\n",
              " * process.\n",
              " * @param {string} inputId Element ID of the input file picker element.\n",
              " * @param {string} outputId Element ID of the output display.\n",
              " * @return {!Iterable<!Object>} Iterable of next steps.\n",
              " */\n",
              "function* uploadFilesStep(inputId, outputId) {\n",
              "  const inputElement = document.getElementById(inputId);\n",
              "  inputElement.disabled = false;\n",
              "\n",
              "  const outputElement = document.getElementById(outputId);\n",
              "  outputElement.innerHTML = '';\n",
              "\n",
              "  const pickedPromise = new Promise((resolve) => {\n",
              "    inputElement.addEventListener('change', (e) => {\n",
              "      resolve(e.target.files);\n",
              "    });\n",
              "  });\n",
              "\n",
              "  const cancel = document.createElement('button');\n",
              "  inputElement.parentElement.appendChild(cancel);\n",
              "  cancel.textContent = 'Cancel upload';\n",
              "  const cancelPromise = new Promise((resolve) => {\n",
              "    cancel.onclick = () => {\n",
              "      resolve(null);\n",
              "    };\n",
              "  });\n",
              "\n",
              "  // Wait for the user to pick the files.\n",
              "  const files = yield {\n",
              "    promise: Promise.race([pickedPromise, cancelPromise]),\n",
              "    response: {\n",
              "      action: 'starting',\n",
              "    }\n",
              "  };\n",
              "\n",
              "  cancel.remove();\n",
              "\n",
              "  // Disable the input element since further picks are not allowed.\n",
              "  inputElement.disabled = true;\n",
              "\n",
              "  if (!files) {\n",
              "    return {\n",
              "      response: {\n",
              "        action: 'complete',\n",
              "      }\n",
              "    };\n",
              "  }\n",
              "\n",
              "  for (const file of files) {\n",
              "    const li = document.createElement('li');\n",
              "    li.append(span(file.name, {fontWeight: 'bold'}));\n",
              "    li.append(span(\n",
              "        `(${file.type || 'n/a'}) - ${file.size} bytes, ` +\n",
              "        `last modified: ${\n",
              "            file.lastModifiedDate ? file.lastModifiedDate.toLocaleDateString() :\n",
              "                                    'n/a'} - `));\n",
              "    const percent = span('0% done');\n",
              "    li.appendChild(percent);\n",
              "\n",
              "    outputElement.appendChild(li);\n",
              "\n",
              "    const fileDataPromise = new Promise((resolve) => {\n",
              "      const reader = new FileReader();\n",
              "      reader.onload = (e) => {\n",
              "        resolve(e.target.result);\n",
              "      };\n",
              "      reader.readAsArrayBuffer(file);\n",
              "    });\n",
              "    // Wait for the data to be ready.\n",
              "    let fileData = yield {\n",
              "      promise: fileDataPromise,\n",
              "      response: {\n",
              "        action: 'continue',\n",
              "      }\n",
              "    };\n",
              "\n",
              "    // Use a chunked sending to avoid message size limits. See b/62115660.\n",
              "    let position = 0;\n",
              "    do {\n",
              "      const length = Math.min(fileData.byteLength - position, MAX_PAYLOAD_SIZE);\n",
              "      const chunk = new Uint8Array(fileData, position, length);\n",
              "      position += length;\n",
              "\n",
              "      const base64 = btoa(String.fromCharCode.apply(null, chunk));\n",
              "      yield {\n",
              "        response: {\n",
              "          action: 'append',\n",
              "          file: file.name,\n",
              "          data: base64,\n",
              "        },\n",
              "      };\n",
              "\n",
              "      let percentDone = fileData.byteLength === 0 ?\n",
              "          100 :\n",
              "          Math.round((position / fileData.byteLength) * 100);\n",
              "      percent.textContent = `${percentDone}% done`;\n",
              "\n",
              "    } while (position < fileData.byteLength);\n",
              "  }\n",
              "\n",
              "  // All done.\n",
              "  yield {\n",
              "    response: {\n",
              "      action: 'complete',\n",
              "    }\n",
              "  };\n",
              "}\n",
              "\n",
              "scope.google = scope.google || {};\n",
              "scope.google.colab = scope.google.colab || {};\n",
              "scope.google.colab._files = {\n",
              "  _uploadFiles,\n",
              "  _uploadFilesContinue,\n",
              "};\n",
              "})(self);\n",
              "</script> "
            ]
          },
          "metadata": {}
        },
        {
          "output_type": "stream",
          "name": "stdout",
          "text": [
            "Saving container_classes.py to container_classes (1).py\n"
          ]
        }
      ]
    },
    {
      "cell_type": "code",
      "source": [
        "from container_classes import *"
      ],
      "metadata": {
        "id": "_JsRnWzm-C96"
      },
      "execution_count": 8,
      "outputs": []
    },
    {
      "cell_type": "markdown",
      "source": [
        "We again will test the algorithm on our example bay."
      ],
      "metadata": {
        "id": "vIoh9Lx27Cls"
      }
    },
    {
      "cell_type": "code",
      "source": [
        "module=Module([Bay([Stack([Container(1),Container(2)],4),\n",
        "    Stack([Container(3),Container(3),Container(4),Container(1)],4),Stack([Container(2)],4),Stack([Container(1),Container(4),Container(4),Container(5)],4)],4)],4)\n",
        "print(module)"
      ],
      "metadata": {
        "id": "v-KSfTAVBh-o",
        "colab": {
          "base_uri": "https://localhost:8080/"
        },
        "outputId": "8a62ebc9-6db6-40c0-ce2c-7bfa58fe1d8c"
      },
      "execution_count": 9,
      "outputs": [
        {
          "output_type": "stream",
          "name": "stdout",
          "text": [
            "Bay 0:\n",
            "  | 1 |   | 5\n",
            "  | 4 |   | 4\n",
            "2 | 3 |   | 4\n",
            "1 | 3 | 2 | 1\n"
          ]
        }
      ]
    },
    {
      "cell_type": "markdown",
      "source": [
        "Note that all functions in this python notebook also work on bay objects, not only on module objects. This extra functionality isn't required and can therefore be omitted if wanted (as a bay can be seen as type of module with 1 bay)."
      ],
      "metadata": {
        "id": "YQwxXfoy-Iqf"
      }
    },
    {
      "cell_type": "markdown",
      "source": [
        "# Estimating shifting costs"
      ],
      "metadata": {
        "id": "IVP4Fzo77NZX"
      }
    },
    {
      "cell_type": "markdown",
      "source": [
        "The local search heuristic algorithm estimates the shifting moves by categorizing the containers via algorithm 6."
      ],
      "metadata": {
        "id": "4celLdgo7XRm"
      }
    },
    {
      "cell_type": "code",
      "source": [
        "def estimate_moves_stack(stack: Stack,max_smallest_values: int,min_biggest_values:int) -> float:\n",
        "  \"\"\"\n",
        "\n",
        "  Args:\n",
        "    stack: stack with containers\n",
        "    max_smallest_values: maximum of the smallest values of all stacks\n",
        "    min_biggest_values: minimum of the biggest values of all stacks\n",
        "\n",
        "  Returns: Estimated amount of shifting moves for stack\n",
        "\n",
        "  \"\"\"\n",
        "  if stack.is_empty():\n",
        "    return 0\n",
        "\n",
        "  score=0\n",
        "  container_values=[container.value for container in stack.containers]\n",
        "  smallest_under_array=get_smallest_under(container_values)\n",
        "\n",
        "  # Give a score to containers\n",
        "  for i,value in enumerate(container_values):\n",
        "    # Categorize:\n",
        "    if i==0 or value==np.inf:\n",
        "      # If we are at bottom: 0 score, same for immovable containers (np.inf)\n",
        "      continue\n",
        "    smallest_under=smallest_under_array[i-1] #Excluding itself\n",
        "    # No relocations needed\n",
        "    if smallest_under>value:\n",
        "      score+=0\n",
        "    # Possible relocations but not sure\n",
        "    elif smallest_under==value:\n",
        "      score+=0.5\n",
        "    # Relocations needed and good stack exists\n",
        "    elif smallest_under>min_biggest_values or value < max_smallest_values:\n",
        "      score+=1\n",
        "    # Relocations needed but no good stack exists\n",
        "    else:\n",
        "      score+=1.4\n",
        "  return score"
      ],
      "metadata": {
        "id": "dxpLogmW769e"
      },
      "execution_count": 10,
      "outputs": []
    },
    {
      "cell_type": "code",
      "source": [
        "def estimate_relocation_moves(container_structure: Bay | Module, max_smallest_values=None, min_biggest_values=None):\n",
        "  \"\"\"\n",
        "\n",
        "  Args:\n",
        "    container_structure: Bay or Module for which you want to estimate its relocation moves\n",
        "    neighbours: amount of neighbouring bays a container in the way of the current container can be moved to\n",
        "    max_smallest_values: internal variable, maximum of the smallest values of all stacks\n",
        "    min_biggest_values: internal variable, minimum of the biggest values of all stacks\n",
        "\n",
        "  Returns: estimate of the amount of relocation moves for container_structure\n",
        "\n",
        "  \"\"\"\n",
        "  score=0\n",
        "  # Module\n",
        "  if isinstance(container_structure,Module):\n",
        "    smallest_values = [min(stack).value if not stack.is_empty() else -1 for bay in container_structure for stack in bay]\n",
        "    biggest_values = [max(stack).value if not stack.is_empty() else -1 for bay in container_structure for stack in bay]\n",
        "\n",
        "    # Find relocation moves per bay and add them together\n",
        "    for bay in container_structure:\n",
        "      score+=estimate_relocation_moves(bay,max(smallest_values),min(biggest_values))\n",
        "    return score\n",
        "\n",
        "  # Bay\n",
        "  else:\n",
        "    if max_smallest_values == None:\n",
        "      smallest_values = [min(stack) if not stack.is_empty() else -1 for stack in container_structure]\n",
        "      biggest_values = [max(stack) if not stack.is_empty() else -1 for stack in container_structure]\n",
        "      max_smallest_values=max(smallest_values).value\n",
        "      min_biggest_values=min(biggest_values).value\n",
        "\n",
        "    # Find relocation moves per stack and add them together\n",
        "    for stack in container_structure:\n",
        "      score+=estimate_moves_stack(stack,max_smallest_values,min_biggest_values)\n",
        "\n",
        "    return score"
      ],
      "metadata": {
        "id": "6Fa4LzUq8CKZ"
      },
      "execution_count": 11,
      "outputs": []
    },
    {
      "cell_type": "markdown",
      "source": [
        "# Find correct stacks"
      ],
      "metadata": {
        "id": "nsVzuD728dat"
      }
    },
    {
      "cell_type": "markdown",
      "source": [
        "The next functions determine ideal stacks and specify to which stack a container will be moved, according to the local search algorithm, algorithm 3."
      ],
      "metadata": {
        "id": "nazFsJ6a9zGk"
      }
    },
    {
      "cell_type": "code",
      "source": [
        "def get_smallest_under(container_values: list)-> np.array:\n",
        "  \"\"\"\n",
        "\n",
        "  Args:\n",
        "    container_values: list of container values\n",
        "\n",
        "  Returns: array of smallest values under\n",
        "  \"\"\"\n",
        "  return np.minimum.accumulate(np.array(container_values))"
      ],
      "metadata": {
        "id": "NsUKP0DB_1w0"
      },
      "execution_count": 21,
      "outputs": []
    },
    {
      "cell_type": "code",
      "source": [
        "def get_to_move(container_values: list,threshold: int)-> np.array:\n",
        "  \"\"\"\n",
        "\n",
        "  Args:\n",
        "    container_values: list of container values\n",
        "    threshold: threshold value\n",
        "\n",
        "  Returns: array of container values that need to be moved in destination stack\n",
        "\n",
        "  \"\"\"\n",
        "  smallest_under=get_smallest_under(container_values)\n",
        "  # Find containers that need to be moved when placing a container w value threshold in stack (i.e. the smallest value under it is smaller than threshold)\n",
        "  return np.array(container_values)[smallest_under<threshold]"
      ],
      "metadata": {
        "id": "1tYrydblA-Lc"
      },
      "execution_count": 22,
      "outputs": []
    },
    {
      "cell_type": "code",
      "source": [
        "def get_ideal_stacks_list(container_structure : Bay | Module, container_index: tuple,\n",
        "                            container_value: int,alpha: float,excluded_stacks:list,\n",
        "                             neighbours:int, empty_min_value:int,bay_index=None, max_smallest_values=None, min_biggest_values=None) -> list:\n",
        "  \"\"\"\n",
        "\n",
        "  Args:\n",
        "\n",
        "    container_structure: Bay or Module\n",
        "    container_index: index of current container in container_structure\n",
        "    container_value: value of current container\n",
        "    alpha: cost of pre-processing move (w.r.t. relocation move)\n",
        "    excluded_stacks: list with excluded stacks (from which it is not allowed to pick)\n",
        "    neighbours: amount of neighbouring bays a container in the way of the current container can be moved to\n",
        "    empty_min_value: min value of an empty stack\n",
        "    bay_index: internal variable, index of current bay in module\n",
        "\n",
        "  Returns: list with ideal stacks, represented as tuples (stack_index,stack)\n",
        "\n",
        "  \"\"\"\n",
        "  ideal_stacks=[]\n",
        "  # Module\n",
        "\n",
        "  # Only searches for ideal stacks in range of neighbours_containers_in_way\n",
        "  if isinstance(container_structure,Module):\n",
        "    current_bay_index=container_index[0]\n",
        "    start_index = max(0, current_bay_index - neighbours)\n",
        "    end_index = min(len(container_structure), current_bay_index+neighbours+1)\n",
        "    selected_bay_indices=range(start_index, end_index)\n",
        "\n",
        "\n",
        "    smallest_values=[min(stack) for bay in container_structure for stack in bay if not stack.is_empty()]\n",
        "    biggest_values=[max(stack) for bay in container_structure for stack in bay if not stack.is_empty()]\n",
        "\n",
        "    # Finds ideal stacks to place container in, bay per bay\n",
        "    for bay_index, bay in ((i, container_structure[i]) for i in selected_bay_indices):\n",
        "        ideal_stacks_list=get_ideal_stacks_list(bay, container_index, container_value, alpha,\n",
        "                                                    excluded_stacks,neighbours,empty_min_value, bay_index,\n",
        "                                                    max(smallest_values).value,min(biggest_values).value)\n",
        "        ideal_stacks += ideal_stacks_list\n",
        "    return ideal_stacks\n",
        "  # Bay\n",
        "  else:\n",
        "    # Loops over all stacks in bay to determine ideal stacks\n",
        "    for stack_index,stack in enumerate(container_structure):\n",
        "      stack_index=(bay_index,stack_index) if isinstance(bay_index, int) else stack_index\n",
        "\n",
        "      # Stack is full -> no container can be added so not a ideal stack\n",
        "      if stack.is_full():\n",
        "        continue\n",
        "\n",
        "      # Can't move to excluded stacks\n",
        "      if stack_index in excluded_stacks:\n",
        "        continue\n",
        "      # Gives a fixed value as minimum for empty stacks\n",
        "      if stack.is_empty():\n",
        "        min_value= empty_min_value\n",
        "      else:\n",
        "        min_value= min(stack).value\n",
        "\n",
        "      # If max_smallest_values is specified, this means we are in a module. Otherwise calculate it for a bay.\n",
        "      if max_smallest_values == None:\n",
        "        smallest_values=[min(stack) for stack in container_structure if not stack.is_empty()]\n",
        "        biggest_values=[max(stack) for stack in container_structure if not stack.is_empty()]\n",
        "        max_smallest_values=max(smallest_values).value\n",
        "        min_biggest_values=min(biggest_values).value\n",
        "\n",
        "\n",
        "      estimate_relocation_moves_stack=estimate_moves_stack(stack,max_smallest_values,min_biggest_values)\n",
        "      # Determine if stack is ideal via criterium\n",
        "      if min_value>container_value and estimate_relocation_moves_stack<= alpha:\n",
        "        ideal_stacks.append((stack_index,min_value)) #Also stores minimum value\n",
        "\n",
        "    return ideal_stacks"
      ],
      "metadata": {
        "id": "mdFJgxl4BByb"
      },
      "execution_count": 13,
      "outputs": []
    },
    {
      "cell_type": "code",
      "source": [
        "def get_smallest_value_stacks(container_structure : Bay | Module,container_index:int, neighbours:int,excluded_stacks:list,empty_min_value:int,bay_index=None):\n",
        "  \"\"\"\n",
        "\n",
        "  Args:\n",
        "    container_structure: Bay or Module\n",
        "    excluded_stacks: list with excluded stacks (from which it is not allowed to pick)\n",
        "    empty_min_value: min value of an empty stack\n",
        "    bay_index: internal variable, index of current bay in module\n",
        "\n",
        "  Returns: list with smallest value from stacks, represented as tuples (stack_index, minimum of stack)\n",
        "\n",
        "  \"\"\"\n",
        "\n",
        "  smallest_value_stacks=[]\n",
        "\n",
        "  # Only finds minimum values of stacks in range of neighbours_containers_in_way\n",
        "  if isinstance(container_structure,Module):\n",
        "    current_bay_index=container_index[0]\n",
        "    start_index = max(0, current_bay_index - neighbours)\n",
        "    end_index = min(len(container_structure), current_bay_index+neighbours+1)\n",
        "    selected_bay_indices=range(start_index, end_index)\n",
        "\n",
        "    # Find the smallest values for stacks, bay per bay\n",
        "    for bay_index, bay in ((i, container_structure[i]) for i in selected_bay_indices):\n",
        "       smallest_value_stacks += get_smallest_value_stacks(bay,container_index,neighbours,excluded_stacks,empty_min_value,bay_index)\n",
        "    return smallest_value_stacks\n",
        "\n",
        "  else:\n",
        "\n",
        "    # Find smallest value for stacks in bay\n",
        "    for stack_index,stack in enumerate(container_structure):\n",
        "      stack_index=(bay_index,stack_index) if isinstance(bay_index, int) else stack_index\n",
        "      if stack_index in excluded_stacks:\n",
        "        continue\n",
        "      if stack.is_empty():\n",
        "        smallest_value_stacks.append((stack_index,empty_min_value))\n",
        "      elif stack.is_full():\n",
        "        continue\n",
        "      else:\n",
        "        # Find smallest value, and stores stack_index\n",
        "        smallest_value_stacks.append((stack_index,min(stack).value))\n",
        "    return smallest_value_stacks"
      ],
      "metadata": {
        "id": "_fIDcg0NBIME"
      },
      "execution_count": 14,
      "outputs": []
    },
    {
      "cell_type": "code",
      "source": [
        "def get_stack_to_move_to(container_structure : Bay | Module, container_index: tuple,\n",
        "                            container_value: int,alpha: float,lambda1: int, lambda2: int,\n",
        "                            excluded_stacks:list, neighbours:int, empty_min_value:int):\n",
        "  \"\"\"\n",
        "\n",
        "  Args:\n",
        "    container_structure: Bay or Module\n",
        "    container_index: index of current container in container_structure\n",
        "    container_value: value of current container\n",
        "    alpha: cost of pre-processing move (w.r.t. relocation move)\n",
        "    lambda1: number of stacks to consider for selection based on their highest value in the correct_stacks list\n",
        "    lambda2: number of smallest value stacks to consider for random selection based on their highest value, when no correct stacks are found in neighbouring bays\n",
        "    excluded_stacks:list with excluded stacks (from which it is not allowed to pick)\n",
        "    neighbours: amount of neighbouring bays a container in the way of the current container can be moved to\n",
        "\n",
        "  Returns:\n",
        "\n",
        "  \"\"\"\n",
        "  # Gets ideal stacks to move container to\n",
        "  ideal_stacks=get_ideal_stacks_list(container_structure,container_index,container_value,alpha,excluded_stacks,neighbours,empty_min_value)\n",
        "  if len(ideal_stacks)>0:\n",
        "    # Lambda1=1 -> get ideal stack with minimum value\n",
        "    if lambda1==1:\n",
        "      return min(ideal_stacks, key=lambda x: x[1])[0]\n",
        "    sorted_stacks = sorted(ideal_stacks, key=lambda x: x[1])\n",
        "\n",
        "    # Select the `lambda1` stacks with the smallest values\n",
        "    smallest_stacks = sorted_stacks[:lambda1]\n",
        "    return random.choice(smallest_stacks)[0]\n",
        "\n",
        "  #If no ideal stacks:\n",
        "  else:\n",
        "    smallest_values_stacks= get_smallest_value_stacks(container_structure,container_index,neighbours,excluded_stacks,empty_min_value)\n",
        "    if smallest_values_stacks==[]:\n",
        "      return False # No stack to put container in\n",
        "    # Get the ones with smallest value in stack\n",
        "    if lambda2==1:\n",
        "      return min(smallest_values_stacks, key=lambda x: x[1])[0]\n",
        "    else:\n",
        "      sorted_stacks=sorted(smallest_values_stacks, key=lambda x: x[1])\n",
        "      smallest_stacks= sorted_stacks[:lambda2]\n",
        "      return random.choice(smallest_stacks)[0]"
      ],
      "metadata": {
        "id": "8mbi4us6BPAQ"
      },
      "execution_count": 15,
      "outputs": []
    },
    {
      "cell_type": "markdown",
      "source": [
        "# Move to different stack"
      ],
      "metadata": {
        "id": "2CHODCGA-6ao"
      }
    },
    {
      "cell_type": "markdown",
      "source": [
        "In this section, algorithm 4 is implemented, as part of the local search housekeeping algorithm."
      ],
      "metadata": {
        "id": "MnC5-Kz7_OcI"
      }
    },
    {
      "cell_type": "code",
      "source": [
        "def move_to_different_stack(container_structure : Bay | Module, current_container_index:tuple,destination_stack_index:tuple,\n",
        "                            alpha:float,lambda1:int, lambda2:int,neighbours:int,empty_min_value):\n",
        "  \"\"\"\n",
        "\n",
        "  Args:\n",
        "    container_structure: Bay or Module\n",
        "    current_container_index: index of container you want to move\n",
        "    destination_stack_index: index of destination stack\n",
        "    alpha: cost of pre-processing move (w.r.t. relocation move)\n",
        "    lambda1: lambda1: number of stacks to consider for selection based on their highest value in the correct_stacks list\n",
        "    lambda2: number of smallest value stacks to consider for random selection based on their highest value, when no correct stacks are found in neighbouring bays\n",
        "    neighbours: amount of neighbouring bays a container in the way of the current container can be moved to\n",
        "    empty_min_value: min value of an empty stack\n",
        "\n",
        "\n",
        "  Returns: container_structure, moves where the current container was moved from current_container_index to destination_stack_index\n",
        "\n",
        "  \"\"\"\n",
        "  new_container_structure=container_structure.copy()\n",
        "\n",
        "  current_stack_index=current_container_index[:-1] if isinstance(new_container_structure,Module) else current_container_index[0]\n",
        "  current_level=current_container_index[-1]\n",
        "\n",
        "  current_stack=new_container_structure[current_stack_index]\n",
        "  destination_stack=new_container_structure[destination_stack_index]\n",
        "\n",
        "\n",
        "  value=current_stack[current_level].value\n",
        "\n",
        "  #Get the containers on top of container we want to move and the ones in destination stack we need to move\n",
        "  on_top= list(current_stack[current_level+1:])\n",
        "  destination_stack_to_move= list(get_to_move([container.value for container in destination_stack.containers],value))\n",
        "\n",
        "  moves=[]\n",
        "  # While we have containers to move, move them out of the way\n",
        "  while len(on_top)>0 or len(destination_stack_to_move)>0:\n",
        "\n",
        "    # If on_top is empty, give it value -1\n",
        "    if len(on_top)==0:\n",
        "      top_on_top=-1\n",
        "    else:\n",
        "      top_on_top=on_top[-1]\n",
        "\n",
        "    # Same for destination_stack\n",
        "    if len(destination_stack_to_move)==0:\n",
        "      top_destination_stack_to_move=-1\n",
        "    else:\n",
        "      top_destination_stack_to_move=destination_stack_to_move[-1]\n",
        "\n",
        "    # Pick the one with highest value to move first\n",
        "    if top_on_top>=top_destination_stack_to_move:\n",
        "      container_value=on_top.pop(-1)\n",
        "      stack_index=current_stack_index\n",
        "    else:\n",
        "      container_value=destination_stack_to_move.pop(-1)\n",
        "      stack_index=destination_stack_index\n",
        "    # Get best stack to move this container to\n",
        "    stack_to_move_to= get_stack_to_move_to(new_container_structure, current_container_index,\n",
        "                            container_value,alpha,lambda1, lambda2,[current_stack_index,destination_stack_index], neighbours,empty_min_value)\n",
        "    if stack_to_move_to==False:\n",
        "      return container_structure,moves\n",
        "    # Perform the move\n",
        "    new_container_structure.move(stack_index,stack_to_move_to)\n",
        "    stack_IDs= [new_container_structure[stack_index].ID,new_container_structure[stack_to_move_to].ID]\n",
        "    # If stacks have IDs use that, otherwise use index\n",
        "    if stack_IDs[0] and stack_IDs[1]:\n",
        "      moves.append((stack_IDs[0],stack_IDs[1]))\n",
        "    else:\n",
        "      moves.append((stack_index,stack_to_move_to))\n",
        "\n",
        "\n",
        "  # If there isn't any space freed up in destination stack, just return and don't move the container\n",
        "  if destination_stack.is_full():\n",
        "    return container_structure,moves\n",
        "\n",
        "  # Put current container in destination stack\n",
        "  container=current_stack.pop()\n",
        "  container.placed=True\n",
        "  destination_stack.push(container)\n",
        "\n",
        "  stack_IDs= [new_container_structure[current_stack_index].ID,new_container_structure[destination_stack_index].ID]\n",
        "  # If stacks have IDs use that, otherwise use index\n",
        "  if stack_IDs[0] and stack_IDs[1]:\n",
        "      moves.append((stack_IDs[0],stack_IDs[1]))\n",
        "  else:\n",
        "    moves.append((current_stack_index,destination_stack_index))\n",
        "\n",
        "  return new_container_structure,moves"
      ],
      "metadata": {
        "id": "Nz0aEm4vBTQl"
      },
      "execution_count": 16,
      "outputs": []
    },
    {
      "cell_type": "markdown",
      "source": [
        "# Move to current stack"
      ],
      "metadata": {
        "id": "Y094YA9e--t7"
      }
    },
    {
      "cell_type": "markdown",
      "source": [
        "In this section algorithm 5 is implemented, as part of the local search housekeeping algorithm."
      ],
      "metadata": {
        "id": "3sMf-0C9_GMB"
      }
    },
    {
      "cell_type": "code",
      "source": [
        "def move_to_current_stack(container_structure : Bay | Module, current_container_index:tuple,\n",
        "                            alpha:float,lambda1:int, lambda2:int,neighbours:int,empty_min_value:int):\n",
        "  \"\"\"\n",
        "\n",
        "  Args:\n",
        "    container_structure: Bay or Module\n",
        "    current_container_index: index of container you want to move\n",
        "    alpha: cost of pre-processing move (w.r.t. relocation move)\n",
        "    lambda1: number of stacks to consider for selection based on their highest value in the correct_stacks list\n",
        "    lambda2: number of smallest value stacks to consider for random selection based on their highest value, when no correct stacks are found in neighbouring bays\n",
        "    neighbours: amount of neighbouring bays a container in the way of the current container can be moved to\n",
        "    empty_min_value: min value of an empty stack\n",
        "\n",
        "  Returns: current_stack_index, moves where the current container was moved from current_container_index to current_stack_index\n",
        "\n",
        "  \"\"\"\n",
        "  new_container_structure=container_structure.copy()\n",
        "\n",
        "  current_stack_index=current_container_index[:-1] if isinstance(new_container_structure,Module) else current_container_index[0]\n",
        "  current_bay_index=current_container_index[0]\n",
        "  current_level=current_container_index[-1]\n",
        "\n",
        "  current_stack=new_container_structure[current_stack_index]\n",
        "\n",
        "  if isinstance(new_container_structure, Module):\n",
        "    current_bay=new_container_structure[current_bay_index]\n",
        "  else:\n",
        "    current_bay=new_container_structure\n",
        "\n",
        "  value=current_stack[current_level].value\n",
        "  # Get the ones on top of the one we need to move, we will need to move these first\n",
        "  on_top= list(current_stack[current_level+1:])\n",
        "  moves=[]\n",
        "\n",
        "  # Move the ones blocking the container\n",
        "  while len(on_top)>0:\n",
        "    container_value=on_top.pop(-1)\n",
        "\n",
        "    # Get correct stack to move container to\n",
        "    stack_to_move_to=get_stack_to_move_to(new_container_structure, current_container_index,\n",
        "                            container_value,alpha,lambda1, lambda2,[current_stack_index], neighbours,empty_min_value)\n",
        "    if stack_to_move_to==False:\n",
        "      return container_structure,moves\n",
        "    # Put it inside this stack\n",
        "    new_container_structure.move(current_stack_index,stack_to_move_to)\n",
        "\n",
        "    stack_IDs= [new_container_structure[current_stack_index].ID,new_container_structure[stack_to_move_to].ID]\n",
        "    # If stacks have IDs use that, otherwise use index\n",
        "    if stack_IDs[0] and stack_IDs[1]:\n",
        "      moves.append((stack_IDs[0],stack_IDs[1]))\n",
        "    else:\n",
        "      moves.append((current_stack_index,stack_to_move_to))\n",
        "\n",
        "\n",
        "  # Put container temporarily aside in highest stack in bay with space available\n",
        "  if isinstance(new_container_structure,Module):\n",
        "      current_bay_index=current_container_index[0]\n",
        "      start_index = max(0, current_bay_index - neighbours)\n",
        "      end_index = min(len(new_container_structure), current_bay_index+neighbours+1)\n",
        "  else:\n",
        "      start_index=0\n",
        "      end_index=1\n",
        "\n",
        "  valid_stacks = [(bay_index, stack_index) if isinstance(new_container_structure, Module) else stack_index\n",
        "    for bay_index in range(start_index, end_index)\n",
        "    for stack_index, stack in enumerate(new_container_structure[bay_index] if isinstance(new_container_structure, Module) else new_container_structure)\n",
        "    if (bay_index, stack_index) != current_stack_index and not stack.is_full()]\n",
        "\n",
        "  put_aside_stack_index = max(valid_stacks, key=lambda idx: len(new_container_structure[idx]), default=None)\n",
        "\n",
        "\n",
        "\n",
        "\n",
        "  if put_aside_stack_index==None:\n",
        "    return container_structure,moves\n",
        "  # Put current container aside\n",
        "  new_container_structure.move(current_stack_index,put_aside_stack_index)\n",
        "  stack_IDs= [new_container_structure[current_stack_index].ID,new_container_structure[put_aside_stack_index].ID]\n",
        "  if stack_IDs[0] and stack_IDs[1]:\n",
        "      moves.append((stack_IDs[0],stack_IDs[1]))\n",
        "  else:\n",
        "     moves.append((current_stack_index,put_aside_stack_index))\n",
        "\n",
        "\n",
        "\n",
        "\n",
        "  # Get containers under current_container that need to be moved to place current container correctly\n",
        "  to_move_under_container= list(get_to_move(current_stack[:current_level],value))\n",
        "  while len(to_move_under_container)>0:\n",
        "    container_value=to_move_under_container.pop(-1)\n",
        "\n",
        "    stack_to_move_to=get_stack_to_move_to(new_container_structure, current_container_index,\n",
        "                            container_value,alpha,lambda1, lambda2,[current_stack_index,put_aside_stack_index], neighbours,empty_min_value)\n",
        "    if stack_to_move_to==False:\n",
        "      return container_structure,moves\n",
        "    # Perform the move\n",
        "    new_container_structure.move(current_stack_index,stack_to_move_to)\n",
        "    stack_IDs= [new_container_structure[current_stack_index].ID,new_container_structure[stack_to_move_to].ID]\n",
        "    # If stacks have IDs use that, otherwise use index\n",
        "    if stack_IDs[0] and stack_IDs[1]:\n",
        "      moves.append((stack_IDs[0],stack_IDs[1]))\n",
        "    else:\n",
        "      moves.append((current_stack_index,stack_to_move_to))\n",
        "\n",
        "  # Move current container back in current stack\n",
        "\n",
        "  container=new_container_structure[put_aside_stack_index].pop()\n",
        "  container.placed=True\n",
        "  current_stack.push(container)\n",
        "\n",
        "  stack_IDs= [new_container_structure[put_aside_stack_index].ID,new_container_structure[current_stack_index].ID]\n",
        "  # If stacks have IDs use that, otherwise use index\n",
        "  if stack_IDs[0] and stack_IDs[1]:\n",
        "    moves.append((stack_IDs[0],stack_IDs[1]))\n",
        "  else:\n",
        "    moves.append((put_aside_stack_index,current_stack_index))\n",
        "\n",
        "  return new_container_structure,moves"
      ],
      "metadata": {
        "id": "Zi60r5bQBYIt"
      },
      "execution_count": 17,
      "outputs": []
    },
    {
      "cell_type": "markdown",
      "source": [
        "# Housekeeping modules"
      ],
      "metadata": {
        "id": "0_PBG2Qi-ipE"
      }
    },
    {
      "cell_type": "markdown",
      "source": [
        "Finally, we have the local search algorithm, algorithm 3."
      ],
      "metadata": {
        "id": "lsFYepQo_dqN"
      }
    },
    {
      "cell_type": "code",
      "source": [
        "def housekeeping(container_structure : Bay | Module, alpha: float, lambda1=1,\n",
        "                   lambda2=1, neighbours=False,neighbours_containers_in_way=False,empty_min_value=-1,estimate_shifting_function=estimate_relocation_moves) -> Bay | Module:\n",
        "  \"\"\"\n",
        "\n",
        "  Args:\n",
        "    container_structure: Bay or Module you want to pre-proces\n",
        "    alpha: cost of pre-processing move (w.r.t. relocation move)\n",
        "    lambda1: number of stacks to consider for selection based on their highest value in the correct_stacks list\n",
        "    lambda2: number of smallest value stacks to consider for random selection based on their highest value, when no correct stacks are found in neighbouring bays\n",
        "    neighbours: amount of neighbouring bays the current container can be moved to\n",
        "    neighbours_containers_in_way: amount of bays a container in the way of the current container can be moved to\n",
        "    empty_min_value: minimum value of an empty stack\n",
        "\n",
        "  Returns: pre-processed Bay/Module\n",
        "\n",
        "  \"\"\"\n",
        "  # If we have no neigbours specified, we consider the whole module\n",
        "  if isinstance(container_structure,Module) and not neighbours:\n",
        "    neighbours=len(container_structure)\n",
        "\n",
        "  # Copy the container structure, we want to make changes to it but not sure if we will keep them\n",
        "  container_structure=container_structure.copy()\n",
        "  housekeeping_moves=[]\n",
        "\n",
        "  # Calculate reloc. moves to later calculate improvement with.\n",
        "  expected_number_relocation_moves_before=estimate_shifting_function(container_structure)\n",
        "\n",
        "   # Find the maximum value to start our loop with\n",
        "  max_value= container_structure.max_container().value\n",
        "\n",
        "   # Loops over all containers. Starts with containers with highest value.\n",
        "  for t in range(max_value,1,-1):\n",
        "    containers_with_time_t = container_structure.where_value(t) #List with tuples containing the positions where the value t is situated in bay\n",
        "    # Goes over all the containers with time t and places them.\n",
        "    while len(containers_with_time_t)>0:\n",
        "      # A container is a tuple, containing the place of the container\n",
        "      inspected_container=containers_with_time_t.pop(0)\n",
        "      current_stack_index=inspected_container[:-1] if isinstance(container_structure,Module) else inspected_container[0]\n",
        "\n",
        "      #Starting values to find best improvement after each iteration\n",
        "      best_improvement=0\n",
        "      best_moves=[]\n",
        "      best_container_structure=container_structure\n",
        "      #Store relocation moves before moving to calculate improvement after moving\n",
        "      best_reloc_moves=expected_number_relocation_moves_before\n",
        "\n",
        "      # Determine neigbouring bays to loop over\n",
        "      if isinstance(container_structure,Module):\n",
        "        current_bay_index=inspected_container[0]\n",
        "        start_index = max(0, current_bay_index - neighbours)\n",
        "        end_index = min(len(container_structure), current_bay_index+neighbours+1)\n",
        "      else:\n",
        "        start_index=0\n",
        "        end_index=1\n",
        "\n",
        "      # Loop over all bays\n",
        "      for bay_index in range(start_index,end_index):\n",
        "        # If we have a module it gets its bays, if it's a bay we get the bay itself\n",
        "        bay=container_structure[bay_index] if isinstance(container_structure,Module) else container_structure\n",
        "        for stack_index in range(len(bay)):\n",
        "          target_location = (bay_index, stack_index) if isinstance(container_structure, Module) else stack_index\n",
        "\n",
        "           # Place container in a stack to see how much it improves our situation\n",
        "          if target_location!=current_stack_index:\n",
        "            new_container_structure,moves=move_to_different_stack(container_structure,inspected_container,target_location,alpha,\n",
        "                                                                  lambda1, lambda2,neighbours_containers_in_way,empty_min_value)\n",
        "          # \" \" \"  \" in same stack  \" \" \" \"\n",
        "          else:\n",
        "            new_container_structure,moves=move_to_current_stack(container_structure,inspected_container,alpha,lambda1, lambda2,\n",
        "                                                                neighbours_containers_in_way, empty_min_value)\n",
        "\n",
        "          # Calculate relocation moves after placing the container\n",
        "          # -> get f(B_s)\n",
        "          expected_number_relocation_moves_after=estimate_shifting_function(new_container_structure)\n",
        "          #Find improvement\n",
        "          # I(s)= f(B)-(alpha*m(s)+f(B_s))\n",
        "          improvement=expected_number_relocation_moves_before-(alpha*len(moves)+expected_number_relocation_moves_after)\n",
        "\n",
        "          print(f\"improvement {stack_index}: {improvement}\")\n",
        "          print(f'moves: {len(moves)}')\n",
        "          print(f'expected_number_relocation_moves_before:{expected_number_relocation_moves_before}')\n",
        "          print(f'expected_number_relocation_moves_after:{expected_number_relocation_moves_after}')\n",
        "          print(new_container_structure)\n",
        "          # If better than best previous improvement: store it\n",
        "          if improvement>0 and improvement>best_improvement:\n",
        "            best_improvement=improvement\n",
        "            best_moves=moves\n",
        "            best_container_structure=new_container_structure\n",
        "            best_reloc_moves=expected_number_relocation_moves_after\n",
        "\n",
        "\n",
        "          else:\n",
        "            continue\n",
        "\n",
        "      #print(best_container_structure)\n",
        "      expected_number_relocation_moves_before=best_reloc_moves\n",
        "\n",
        "      # Update container_structure and get (possible) new locations of containers w value t\n",
        "      if container_structure!=best_container_structure:\n",
        "        housekeeping_moves.append(best_moves)\n",
        "        container_structure=best_container_structure\n",
        "        containers_with_time_t = container_structure.where_value(t)\n",
        "\n",
        "      # If no moves are good -> continue with next container\n",
        "      else:\n",
        "        continue\n",
        "\n",
        "  flattened_housekeeping_moves = [from_to_pair for sublist in housekeeping_moves for from_to_pair in sublist]\n",
        "\n",
        "  return container_structure,flattened_housekeeping_moves"
      ],
      "metadata": {
        "id": "tTcwc79_Aeml"
      },
      "execution_count": 44,
      "outputs": []
    },
    {
      "cell_type": "markdown",
      "source": [
        "# Performing algorithm on the bay"
      ],
      "metadata": {
        "id": "0bNWeYb9AimU"
      }
    },
    {
      "cell_type": "code",
      "source": [
        "alpha=0.6"
      ],
      "metadata": {
        "id": "FIKvPkjtAgwV"
      },
      "execution_count": 30,
      "outputs": []
    },
    {
      "cell_type": "code",
      "source": [
        "print(module)"
      ],
      "metadata": {
        "colab": {
          "base_uri": "https://localhost:8080/"
        },
        "id": "Udyx--EVHINY",
        "outputId": "48cc5579-4c3a-4644-9160-da8e55063030"
      },
      "execution_count": 5,
      "outputs": [
        {
          "output_type": "stream",
          "name": "stdout",
          "text": [
            "Bay 0:\n",
            "  | 1 |   | 5\n",
            "  | 4 |   | 4\n",
            "2 | 3 |   | 4\n",
            "1 | 3 | 2 | 1\n"
          ]
        }
      ]
    },
    {
      "cell_type": "code",
      "source": [
        "estimate_relocation_moves(module)"
      ],
      "metadata": {
        "id": "2Ht9KrjTSvdJ",
        "colab": {
          "base_uri": "https://localhost:8080/"
        },
        "outputId": "bc53bfbe-f9c0-4fd3-be67-1a3c7b898cfc"
      },
      "execution_count": 23,
      "outputs": [
        {
          "output_type": "execute_result",
          "data": {
            "text/plain": [
              "7.1"
            ]
          },
          "metadata": {},
          "execution_count": 23
        }
      ]
    },
    {
      "cell_type": "code",
      "source": [
        "housekeeped_module,moves=housekeeping(module,alpha,2,2)"
      ],
      "metadata": {
        "id": "GlSFXez-CTCA",
        "colab": {
          "base_uri": "https://localhost:8080/"
        },
        "outputId": "637d1c6d-9e67-4ea6-a4f2-6c312077ef52"
      },
      "execution_count": 31,
      "outputs": [
        {
          "output_type": "stream",
          "name": "stdout",
          "text": [
            "improvement 0: 1.2999999999999998\n",
            "moves: 3\n",
            "expected_number_relocation_moves_before:7.1\n",
            "expected_number_relocation_moves_after:4.0\n",
            "Bay 0:\n",
            "  | 1 |   |  \n",
            "  | 4 | 1 | 4\n",
            "  | 3 | 2 | 4\n",
            "5 | 3 | 2 | 1\n",
            "improvement 1: -1.9000000000000004\n",
            "moves: 5\n",
            "expected_number_relocation_moves_before:7.1\n",
            "expected_number_relocation_moves_after:6\n",
            "Bay 0:\n",
            "  |   | 3 |  \n",
            "4 |   | 3 | 4\n",
            "2 |   | 1 | 4\n",
            "1 | 5 | 2 | 1\n",
            "improvement 2: 0.39999999999999947\n",
            "moves: 2\n",
            "expected_number_relocation_moves_before:7.1\n",
            "expected_number_relocation_moves_after:5.5\n",
            "Bay 0:\n",
            "  | 1 |   |  \n",
            "2 | 4 |   | 4\n",
            "2 | 3 |   | 4\n",
            "1 | 3 | 5 | 1\n",
            "improvement 3: -0.40000000000000036\n",
            "moves: 5\n",
            "expected_number_relocation_moves_before:7.1\n",
            "expected_number_relocation_moves_after:4.5\n",
            "Bay 0:\n",
            "  | 1 | 1 |  \n",
            "  | 4 | 4 |  \n",
            "2 | 3 | 4 |  \n",
            "1 | 3 | 2 | 5\n",
            "improvement 0: -1.5\n",
            "moves: 2\n",
            "expected_number_relocation_moves_before:4.0\n",
            "expected_number_relocation_moves_after:4.3\n",
            "Bay 0:\n",
            "  |   | 1 |  \n",
            "  |   | 1 | 4\n",
            "4 | 3 | 2 | 4\n",
            "5 | 3 | 2 | 1\n",
            "improvement 1: -4.300000000000001\n",
            "moves: 5\n",
            "expected_number_relocation_moves_before:4.0\n",
            "expected_number_relocation_moves_after:5.3\n",
            "Bay 0:\n",
            "3 |   |   |  \n",
            "3 |   | 1 | 4\n",
            "1 |   | 2 | 4\n",
            "5 | 4 | 2 | 1\n",
            "improvement 2: -4.800000000000001\n",
            "moves: 5\n",
            "expected_number_relocation_moves_before:4.0\n",
            "expected_number_relocation_moves_after:5.8\n",
            "Bay 0:\n",
            "2 |   |   | 1\n",
            "2 |   |   | 4\n",
            "1 | 3 |   | 4\n",
            "5 | 3 | 4 | 1\n",
            "improvement 3: -1.9000000000000004\n",
            "moves: 5\n",
            "expected_number_relocation_moves_before:4.0\n",
            "expected_number_relocation_moves_after:2.9\n",
            "Bay 0:\n",
            "1 |   | 4 |  \n",
            "1 |   | 1 |  \n",
            "4 | 3 | 2 |  \n",
            "5 | 3 | 2 | 4\n",
            "improvement 0: -0.5999999999999996\n",
            "moves: 2\n",
            "expected_number_relocation_moves_before:4.0\n",
            "expected_number_relocation_moves_after:3.4\n",
            "Bay 0:\n",
            "  | 1 | 4 |  \n",
            "  | 4 | 1 |  \n",
            "4 | 3 | 2 |  \n",
            "5 | 3 | 2 | 1\n",
            "improvement 1: -2.4000000000000004\n",
            "moves: 4\n",
            "expected_number_relocation_moves_before:4.0\n",
            "expected_number_relocation_moves_after:4.0\n",
            "Bay 0:\n",
            "  | 1 |   |  \n",
            "  | 4 | 1 | 4\n",
            "  | 3 | 2 | 4\n",
            "5 | 3 | 2 | 1\n",
            "improvement 2: -1.7999999999999998\n",
            "moves: 3\n",
            "expected_number_relocation_moves_before:4.0\n",
            "expected_number_relocation_moves_after:4.0\n",
            "Bay 0:\n",
            "  | 1 |   |  \n",
            "  | 4 | 1 | 4\n",
            "  | 3 | 2 | 4\n",
            "5 | 3 | 2 | 1\n",
            "improvement 3: -0.40000000000000036\n",
            "moves: 4\n",
            "expected_number_relocation_moves_before:4.0\n",
            "expected_number_relocation_moves_after:2.0\n",
            "Bay 0:\n",
            "  | 1 |   |  \n",
            "1 | 4 | 1 |  \n",
            "4 | 3 | 2 |  \n",
            "5 | 3 | 2 | 4\n",
            "improvement 0: 0.0\n",
            "moves: 1\n",
            "expected_number_relocation_moves_before:4.0\n",
            "expected_number_relocation_moves_after:3.4\n",
            "Bay 0:\n",
            "  | 1 |   |  \n",
            "  | 4 | 1 |  \n",
            "4 | 3 | 2 | 4\n",
            "5 | 3 | 2 | 1\n",
            "improvement 1: -4.300000000000001\n",
            "moves: 5\n",
            "expected_number_relocation_moves_before:4.0\n",
            "expected_number_relocation_moves_after:5.3\n",
            "Bay 0:\n",
            "3 |   | 3 |  \n",
            "4 |   | 1 |  \n",
            "1 |   | 2 | 4\n",
            "5 | 4 | 2 | 1\n",
            "improvement 2: -3.6999999999999993\n",
            "moves: 4\n",
            "expected_number_relocation_moves_before:4.0\n",
            "expected_number_relocation_moves_after:5.3\n",
            "Bay 0:\n",
            "2 | 1 |   |  \n",
            "2 | 4 |   |  \n",
            "1 | 3 |   | 4\n",
            "5 | 3 | 4 | 1\n",
            "improvement 3: -0.40000000000000036\n",
            "moves: 4\n",
            "expected_number_relocation_moves_before:4.0\n",
            "expected_number_relocation_moves_after:2.0\n",
            "Bay 0:\n",
            "  | 1 |   |  \n",
            "1 | 4 | 1 |  \n",
            "4 | 3 | 2 |  \n",
            "5 | 3 | 2 | 4\n",
            "improvement 0: -1.2000000000000002\n",
            "moves: 2\n",
            "expected_number_relocation_moves_before:4.0\n",
            "expected_number_relocation_moves_after:4.0\n",
            "Bay 0:\n",
            "  | 1 |   |  \n",
            "  | 4 | 1 | 4\n",
            "  | 3 | 2 | 4\n",
            "5 | 3 | 2 | 1\n",
            "improvement 1: -5.1\n",
            "moves: 5\n",
            "expected_number_relocation_moves_before:4.0\n",
            "expected_number_relocation_moves_after:6.1\n",
            "Bay 0:\n",
            "3 |   |   |  \n",
            "4 |   | 1 | 4\n",
            "1 |   | 2 | 4\n",
            "5 | 3 | 2 | 1\n",
            "improvement 2: -2.4000000000000004\n",
            "moves: 4\n",
            "expected_number_relocation_moves_before:4.0\n",
            "expected_number_relocation_moves_after:4.0\n",
            "Bay 0:\n",
            "  | 1 |   |  \n",
            "  | 4 | 1 | 4\n",
            "  | 3 | 2 | 4\n",
            "5 | 3 | 2 | 1\n",
            "improvement 3: -2.4000000000000004\n",
            "moves: 4\n",
            "expected_number_relocation_moves_before:4.0\n",
            "expected_number_relocation_moves_after:4.0\n",
            "Bay 0:\n",
            "  | 1 |   |  \n",
            "  | 4 | 1 | 4\n",
            "  | 3 | 2 | 4\n",
            "5 | 3 | 2 | 1\n",
            "improvement 0: -2.999999999999999\n",
            "moves: 3\n",
            "expected_number_relocation_moves_before:4.0\n",
            "expected_number_relocation_moves_after:5.199999999999999\n",
            "Bay 0:\n",
            "  |   | 1 | 4\n",
            "  |   | 1 | 4\n",
            "3 |   | 2 | 4\n",
            "5 | 3 | 2 | 1\n",
            "improvement 1: -3.5999999999999996\n",
            "moves: 4\n",
            "expected_number_relocation_moves_before:4.0\n",
            "expected_number_relocation_moves_after:5.199999999999999\n",
            "Bay 0:\n",
            "  |   | 4 |  \n",
            "  |   | 1 | 4\n",
            "1 | 3 | 2 | 4\n",
            "5 | 3 | 2 | 1\n",
            "improvement 2: -2.4000000000000004\n",
            "moves: 4\n",
            "expected_number_relocation_moves_before:4.0\n",
            "expected_number_relocation_moves_after:4.0\n",
            "Bay 0:\n",
            "  | 1 |   |  \n",
            "  | 4 | 1 | 4\n",
            "  | 3 | 2 | 4\n",
            "5 | 3 | 2 | 1\n",
            "improvement 3: -2.4000000000000004\n",
            "moves: 4\n",
            "expected_number_relocation_moves_before:4.0\n",
            "expected_number_relocation_moves_after:4.0\n",
            "Bay 0:\n",
            "  | 1 |   |  \n",
            "  | 4 | 1 | 4\n",
            "  | 3 | 2 | 4\n",
            "5 | 3 | 2 | 1\n",
            "improvement 0: -0.5999999999999996\n",
            "moves: 1\n",
            "expected_number_relocation_moves_before:4.0\n",
            "expected_number_relocation_moves_after:4.0\n",
            "Bay 0:\n",
            "  | 1 |   |  \n",
            "  | 4 | 1 | 4\n",
            "  | 3 | 2 | 4\n",
            "5 | 3 | 2 | 1\n",
            "improvement 1: -3.4000000000000004\n",
            "moves: 4\n",
            "expected_number_relocation_moves_before:4.0\n",
            "expected_number_relocation_moves_after:5.0\n",
            "Bay 0:\n",
            "  | 2 |   | 1\n",
            "2 | 4 |   | 4\n",
            "1 | 3 |   | 4\n",
            "5 | 3 |   | 1\n",
            "improvement 2: -4.1\n",
            "moves: 4\n",
            "expected_number_relocation_moves_before:4.0\n",
            "expected_number_relocation_moves_after:5.699999999999999\n",
            "Bay 0:\n",
            "  | 1 |   |  \n",
            "2 | 4 |   | 4\n",
            "1 | 3 |   | 4\n",
            "5 | 3 | 2 | 1\n",
            "improvement 3: -1.7999999999999998\n",
            "moves: 3\n",
            "expected_number_relocation_moves_before:4.0\n",
            "expected_number_relocation_moves_after:4.0\n",
            "Bay 0:\n",
            "  | 1 |   |  \n",
            "  | 4 | 1 | 4\n",
            "  | 3 | 2 | 4\n",
            "5 | 3 | 2 | 1\n",
            "improvement 0: -2.0\n",
            "moves: 2\n",
            "expected_number_relocation_moves_before:4.0\n",
            "expected_number_relocation_moves_after:4.8\n",
            "Bay 0:\n",
            "  | 1 |   | 1\n",
            "  | 4 |   | 4\n",
            "2 | 3 |   | 4\n",
            "5 | 3 | 2 | 1\n",
            "improvement 1: -2.5999999999999996\n",
            "moves: 3\n",
            "expected_number_relocation_moves_before:4.0\n",
            "expected_number_relocation_moves_after:4.8\n",
            "Bay 0:\n",
            "  | 2 |   |  \n",
            "1 | 4 |   | 4\n",
            "1 | 3 |   | 4\n",
            "5 | 3 | 2 | 1\n",
            "improvement 2: -2.5999999999999996\n",
            "moves: 3\n",
            "expected_number_relocation_moves_before:4.0\n",
            "expected_number_relocation_moves_after:4.8\n",
            "Bay 0:\n",
            "  | 1 |   |  \n",
            "  | 4 |   | 4\n",
            "1 | 3 | 2 | 4\n",
            "5 | 3 | 2 | 1\n",
            "improvement 3: -1.7999999999999998\n",
            "moves: 3\n",
            "expected_number_relocation_moves_before:4.0\n",
            "expected_number_relocation_moves_after:4.0\n",
            "Bay 0:\n",
            "  | 1 |   |  \n",
            "  | 4 | 1 | 4\n",
            "  | 3 | 2 | 4\n",
            "5 | 3 | 2 | 1\n"
          ]
        }
      ]
    },
    {
      "cell_type": "code",
      "source": [
        "print(housekeeped_module)"
      ],
      "metadata": {
        "colab": {
          "base_uri": "https://localhost:8080/"
        },
        "id": "qV4LHj6YDCSy",
        "outputId": "096cbe0f-6445-48b1-b638-381e852cdffa"
      },
      "execution_count": 32,
      "outputs": [
        {
          "output_type": "stream",
          "name": "stdout",
          "text": [
            "Bay 0:\n",
            "  | 1 |   |  \n",
            "  | 4 | 1 | 4\n",
            "  | 3 | 2 | 4\n",
            "5 | 3 | 2 | 1\n"
          ]
        }
      ]
    },
    {
      "cell_type": "code",
      "source": [
        "estimate_relocation_moves(housekeeped_module)"
      ],
      "metadata": {
        "id": "0Jor5kN4Stu-",
        "colab": {
          "base_uri": "https://localhost:8080/"
        },
        "outputId": "b3a32c66-35da-4054-9e1e-08b2e5adbb76"
      },
      "execution_count": 33,
      "outputs": [
        {
          "output_type": "execute_result",
          "data": {
            "text/plain": [
              "4.0"
            ]
          },
          "metadata": {},
          "execution_count": 33
        }
      ]
    },
    {
      "cell_type": "code",
      "source": [
        "SC,d=CalculateShiftingCosts(housekeeped_module,k_max=4)"
      ],
      "metadata": {
        "id": "j258tCUuoCRx"
      },
      "execution_count": 34,
      "outputs": []
    },
    {
      "cell_type": "code",
      "source": [
        "sum(SC.values())"
      ],
      "metadata": {
        "id": "410A_9ZfnajZ",
        "colab": {
          "base_uri": "https://localhost:8080/"
        },
        "outputId": "4bb843af-845c-4883-e3da-8620e1402fc3"
      },
      "execution_count": 35,
      "outputs": [
        {
          "output_type": "execute_result",
          "data": {
            "text/plain": [
              "4.0"
            ]
          },
          "metadata": {},
          "execution_count": 35
        }
      ]
    },
    {
      "cell_type": "code",
      "source": [
        "print(module)"
      ],
      "metadata": {
        "id": "apXWs1D3dgG9",
        "colab": {
          "base_uri": "https://localhost:8080/"
        },
        "outputId": "cddb7367-6ce1-42c3-fd0e-ab85ed0ee4fb"
      },
      "execution_count": 36,
      "outputs": [
        {
          "output_type": "stream",
          "name": "stdout",
          "text": [
            "Bay 0:\n",
            "  | 1 |   | 5\n",
            "  | 4 |   | 4\n",
            "2 | 3 |   | 4\n",
            "1 | 3 | 2 | 1\n"
          ]
        }
      ]
    },
    {
      "cell_type": "code",
      "source": [
        "improvement=estimate_relocation_moves(module)-estimate_relocation_moves(housekeeped_module)-alpha*len(moves)\n",
        "print(improvement)"
      ],
      "metadata": {
        "colab": {
          "base_uri": "https://localhost:8080/"
        },
        "id": "bUPU8Hh8AWl3",
        "outputId": "a29f3f79-035a-40f4-be57-43af934a6f16"
      },
      "execution_count": 39,
      "outputs": [
        {
          "output_type": "stream",
          "name": "stdout",
          "text": [
            "1.2999999999999998\n"
          ]
        }
      ]
    },
    {
      "cell_type": "markdown",
      "source": [
        "# Using the look-ahead shifting costs to calculate improvement"
      ],
      "metadata": {
        "id": "K7G_MfMoBIU9"
      }
    },
    {
      "cell_type": "markdown",
      "source": [
        "As mentioned in section 4.5.1, we can also use the look-ahead shifting costs in the housekeeping algorithm instead of the category based algorithm."
      ],
      "metadata": {
        "id": "IFaXQkK6CCtl"
      }
    },
    {
      "cell_type": "code",
      "source": [
        "def look_ahead_shifting_costs(module):\n",
        "  return sum(CalculateShiftingCosts(module)[0].values())"
      ],
      "metadata": {
        "id": "EXKQYB4hBQ40"
      },
      "execution_count": 40,
      "outputs": []
    },
    {
      "cell_type": "code",
      "source": [
        "look_ahead_shifting_costs(module)"
      ],
      "metadata": {
        "colab": {
          "base_uri": "https://localhost:8080/"
        },
        "id": "PEBJ7M0vBk1G",
        "outputId": "44ba8d16-15b8-45e0-de35-8245768c2650"
      },
      "execution_count": 42,
      "outputs": [
        {
          "output_type": "execute_result",
          "data": {
            "text/plain": [
              "7.25"
            ]
          },
          "metadata": {},
          "execution_count": 42
        }
      ]
    },
    {
      "cell_type": "code",
      "source": [
        "new_module,moves=housekeeping(module,alpha,2,2,estimate_shifting_function=look_ahead_shifting_costs)"
      ],
      "metadata": {
        "colab": {
          "base_uri": "https://localhost:8080/"
        },
        "id": "8V7IhMmzBt3S",
        "outputId": "e13a866c-29d1-46f4-c9e8-c3340bd9ba7e"
      },
      "execution_count": 45,
      "outputs": [
        {
          "output_type": "stream",
          "name": "stdout",
          "text": [
            "improvement 0: 1.4500000000000002\n",
            "moves: 3\n",
            "expected_number_relocation_moves_before:7.25\n",
            "expected_number_relocation_moves_after:4.0\n",
            "Bay 0:\n",
            "  | 1 |   |  \n",
            "  | 4 | 1 | 4\n",
            "  | 3 | 2 | 4\n",
            "5 | 3 | 2 | 1\n",
            "improvement 1: -1.75\n",
            "moves: 5\n",
            "expected_number_relocation_moves_before:7.25\n",
            "expected_number_relocation_moves_after:6.0\n",
            "Bay 0:\n",
            "  |   | 3 |  \n",
            "3 |   | 4 | 4\n",
            "2 |   | 1 | 4\n",
            "1 | 5 | 2 | 1\n",
            "improvement 2: 0.5499999999999998\n",
            "moves: 2\n",
            "expected_number_relocation_moves_before:7.25\n",
            "expected_number_relocation_moves_after:5.5\n",
            "Bay 0:\n",
            "  | 1 |   |  \n",
            "2 | 4 |   | 4\n",
            "2 | 3 |   | 4\n",
            "1 | 3 | 5 | 1\n",
            "improvement 3: -0.25\n",
            "moves: 5\n",
            "expected_number_relocation_moves_before:7.25\n",
            "expected_number_relocation_moves_after:4.5\n",
            "Bay 0:\n",
            "  | 1 | 1 |  \n",
            "  | 4 | 4 |  \n",
            "2 | 3 | 4 |  \n",
            "1 | 3 | 2 | 5\n",
            "improvement 0: -1.3666666666666671\n",
            "moves: 2\n",
            "expected_number_relocation_moves_before:4.0\n",
            "expected_number_relocation_moves_after:4.166666666666667\n",
            "Bay 0:\n",
            "  |   |   | 1\n",
            "  |   | 1 | 4\n",
            "4 | 3 | 2 | 4\n",
            "5 | 3 | 2 | 1\n",
            "improvement 1: -4.0\n",
            "moves: 5\n",
            "expected_number_relocation_moves_before:4.0\n",
            "expected_number_relocation_moves_after:5.0\n",
            "Bay 0:\n",
            "  |   |   | 3\n",
            "3 |   | 1 | 4\n",
            "1 |   | 2 | 4\n",
            "5 | 4 | 2 | 1\n",
            "improvement 2: -4.5\n",
            "moves: 5\n",
            "expected_number_relocation_moves_before:4.0\n",
            "expected_number_relocation_moves_after:5.5\n",
            "Bay 0:\n",
            "2 |   |   | 2\n",
            "1 |   |   | 4\n",
            "1 | 3 |   | 4\n",
            "5 | 3 | 4 | 1\n",
            "improvement 3: -2.0\n",
            "moves: 5\n",
            "expected_number_relocation_moves_before:4.0\n",
            "expected_number_relocation_moves_after:3.0\n",
            "Bay 0:\n",
            "1 |   | 4 |  \n",
            "1 |   | 1 |  \n",
            "4 | 3 | 2 |  \n",
            "5 | 3 | 2 | 4\n",
            "improvement 0: -0.4500000000000002\n",
            "moves: 2\n",
            "expected_number_relocation_moves_before:4.0\n",
            "expected_number_relocation_moves_after:3.25\n",
            "Bay 0:\n",
            "  | 1 | 4 |  \n",
            "  | 4 | 1 |  \n",
            "4 | 3 | 2 |  \n",
            "5 | 3 | 2 | 1\n",
            "improvement 1: -2.4000000000000004\n",
            "moves: 4\n",
            "expected_number_relocation_moves_before:4.0\n",
            "expected_number_relocation_moves_after:4.0\n",
            "Bay 0:\n",
            "  | 1 |   |  \n",
            "  | 4 | 1 | 4\n",
            "  | 3 | 2 | 4\n",
            "5 | 3 | 2 | 1\n",
            "improvement 2: -1.7999999999999998\n",
            "moves: 3\n",
            "expected_number_relocation_moves_before:4.0\n",
            "expected_number_relocation_moves_after:4.0\n",
            "Bay 0:\n",
            "  | 1 |   |  \n",
            "  | 4 | 1 | 4\n",
            "  | 3 | 2 | 4\n",
            "5 | 3 | 2 | 1\n",
            "improvement 3: -0.40000000000000036\n",
            "moves: 4\n",
            "expected_number_relocation_moves_before:4.0\n",
            "expected_number_relocation_moves_after:2.0\n",
            "Bay 0:\n",
            "  | 1 |   |  \n",
            "1 | 4 | 1 |  \n",
            "4 | 3 | 2 |  \n",
            "5 | 3 | 2 | 4\n",
            "improvement 0: 0.06666666666666643\n",
            "moves: 1\n",
            "expected_number_relocation_moves_before:4.0\n",
            "expected_number_relocation_moves_after:3.3333333333333335\n",
            "Bay 0:\n",
            "  | 1 |   |  \n",
            "  | 4 | 1 |  \n",
            "4 | 3 | 2 | 4\n",
            "5 | 3 | 2 | 1\n",
            "improvement 1: -3.916666666666667\n",
            "moves: 5\n",
            "expected_number_relocation_moves_before:4.0\n",
            "expected_number_relocation_moves_after:4.916666666666667\n",
            "Bay 0:\n",
            "3 |   | 4 |  \n",
            "3 |   | 1 |  \n",
            "1 |   | 2 | 4\n",
            "5 | 4 | 2 | 1\n",
            "improvement 2: -3.1500000000000004\n",
            "moves: 4\n",
            "expected_number_relocation_moves_before:4.0\n",
            "expected_number_relocation_moves_after:4.75\n",
            "Bay 0:\n",
            "2 | 1 |   |  \n",
            "2 | 4 |   |  \n",
            "1 | 3 |   | 4\n",
            "5 | 3 | 4 | 1\n",
            "improvement 3: -0.40000000000000036\n",
            "moves: 4\n",
            "expected_number_relocation_moves_before:4.0\n",
            "expected_number_relocation_moves_after:2.0\n",
            "Bay 0:\n",
            "  | 1 |   |  \n",
            "1 | 4 | 1 |  \n",
            "4 | 3 | 2 |  \n",
            "5 | 3 | 2 | 4\n",
            "improvement 0: -1.4777777777777774\n",
            "moves: 2\n",
            "expected_number_relocation_moves_before:3.3333333333333335\n",
            "expected_number_relocation_moves_after:3.611111111111111\n",
            "Bay 0:\n",
            "  |   |   |  \n",
            "4 |   | 1 | 1\n",
            "4 | 3 | 2 | 4\n",
            "5 | 3 | 2 | 1\n",
            "improvement 1: -3.5000000000000004\n",
            "moves: 5\n",
            "expected_number_relocation_moves_before:3.3333333333333335\n",
            "expected_number_relocation_moves_after:3.8333333333333335\n",
            "Bay 0:\n",
            "  |   | 3 |  \n",
            "1 |   | 1 | 3\n",
            "4 |   | 2 | 4\n",
            "5 | 4 | 2 | 1\n",
            "improvement 2: -4.166666666666666\n",
            "moves: 5\n",
            "expected_number_relocation_moves_before:3.3333333333333335\n",
            "expected_number_relocation_moves_after:4.5\n",
            "Bay 0:\n",
            "1 |   |   | 2\n",
            "1 |   |   | 2\n",
            "4 | 3 |   | 4\n",
            "5 | 3 | 4 | 1\n",
            "improvement 3: -2.066666666666667\n",
            "moves: 4\n",
            "expected_number_relocation_moves_before:3.3333333333333335\n",
            "expected_number_relocation_moves_after:3.0\n",
            "Bay 0:\n",
            "1 |   | 4 |  \n",
            "1 |   | 1 |  \n",
            "4 | 3 | 2 |  \n",
            "5 | 3 | 2 | 4\n",
            "improvement 0: 0.2333333333333334\n",
            "moves: 1\n",
            "expected_number_relocation_moves_before:3.3333333333333335\n",
            "expected_number_relocation_moves_after:2.5\n",
            "Bay 0:\n",
            "  | 1 |   |  \n",
            "4 | 4 | 1 |  \n",
            "4 | 3 | 2 |  \n",
            "5 | 3 | 2 | 1\n",
            "improvement 1: -1.7999999999999994\n",
            "moves: 3\n",
            "expected_number_relocation_moves_before:3.3333333333333335\n",
            "expected_number_relocation_moves_after:3.3333333333333335\n",
            "Bay 0:\n",
            "  | 1 |   |  \n",
            "  | 4 | 1 |  \n",
            "4 | 3 | 2 | 4\n",
            "5 | 3 | 2 | 1\n",
            "improvement 2: -1.1999999999999997\n",
            "moves: 2\n",
            "expected_number_relocation_moves_before:3.3333333333333335\n",
            "expected_number_relocation_moves_after:3.3333333333333335\n",
            "Bay 0:\n",
            "  | 1 |   |  \n",
            "  | 4 | 1 |  \n",
            "4 | 3 | 2 | 4\n",
            "5 | 3 | 2 | 1\n",
            "improvement 3: -0.46666666666666634\n",
            "moves: 3\n",
            "expected_number_relocation_moves_before:3.3333333333333335\n",
            "expected_number_relocation_moves_after:2.0\n",
            "Bay 0:\n",
            "  | 1 |   |  \n",
            "1 | 4 | 1 |  \n",
            "4 | 3 | 2 |  \n",
            "5 | 3 | 2 | 4\n",
            "improvement 0: -1.3666666666666671\n",
            "moves: 2\n",
            "expected_number_relocation_moves_before:2.5\n",
            "expected_number_relocation_moves_after:2.666666666666667\n",
            "Bay 0:\n",
            "4 |   |   |  \n",
            "4 |   | 1 |  \n",
            "4 | 3 | 2 | 1\n",
            "5 | 3 | 2 | 1\n",
            "improvement 1: -3.5\n",
            "moves: 5\n",
            "expected_number_relocation_moves_before:2.5\n",
            "expected_number_relocation_moves_after:3.0\n",
            "Bay 0:\n",
            "1 |   |   |  \n",
            "4 |   | 1 | 3\n",
            "4 |   | 2 | 3\n",
            "5 | 4 | 2 | 1\n",
            "improvement 2: -4.0\n",
            "moves: 5\n",
            "expected_number_relocation_moves_before:2.5\n",
            "expected_number_relocation_moves_after:3.5\n",
            "Bay 0:\n",
            "1 |   |   | 2\n",
            "4 |   |   | 2\n",
            "4 | 3 |   | 1\n",
            "5 | 3 | 4 | 1\n",
            "improvement 3: -1.2999999999999998\n",
            "moves: 3\n",
            "expected_number_relocation_moves_before:2.5\n",
            "expected_number_relocation_moves_after:2.0\n",
            "Bay 0:\n",
            "1 |   | 1 |  \n",
            "4 |   | 1 |  \n",
            "4 | 3 | 2 |  \n",
            "5 | 3 | 2 | 4\n",
            "improvement 0: -3.4000000000000004\n",
            "moves: 4\n",
            "expected_number_relocation_moves_before:2.5\n",
            "expected_number_relocation_moves_after:3.5\n",
            "Bay 0:\n",
            "3 |   | 1 |  \n",
            "4 |   | 1 | 3\n",
            "4 |   | 2 | 4\n",
            "5 |   | 2 | 1\n",
            "improvement 1: -4.194444444444445\n",
            "moves: 5\n",
            "expected_number_relocation_moves_before:2.5\n",
            "expected_number_relocation_moves_after:3.6944444444444446\n",
            "Bay 0:\n",
            "1 |   | 4 |  \n",
            "4 |   | 1 |  \n",
            "4 |   | 2 | 3\n",
            "5 | 3 | 2 | 1\n",
            "improvement 2: -2.4000000000000004\n",
            "moves: 4\n",
            "expected_number_relocation_moves_before:2.5\n",
            "expected_number_relocation_moves_after:2.5\n",
            "Bay 0:\n",
            "  | 1 |   |  \n",
            "4 | 4 | 1 |  \n",
            "4 | 3 | 2 |  \n",
            "5 | 3 | 2 | 1\n",
            "improvement 3: -1.2000000000000002\n",
            "moves: 2\n",
            "expected_number_relocation_moves_before:2.5\n",
            "expected_number_relocation_moves_after:2.5\n",
            "Bay 0:\n",
            "  | 1 |   |  \n",
            "4 | 4 | 1 |  \n",
            "4 | 3 | 2 |  \n",
            "5 | 3 | 2 | 1\n",
            "improvement 0: -2.8\n",
            "moves: 3\n",
            "expected_number_relocation_moves_before:2.5\n",
            "expected_number_relocation_moves_after:3.5\n",
            "Bay 0:\n",
            "3 |   | 1 |  \n",
            "4 |   | 1 |  \n",
            "4 |   | 2 | 4\n",
            "5 | 3 | 2 | 1\n",
            "improvement 1: -3.011111111111111\n",
            "moves: 4\n",
            "expected_number_relocation_moves_before:2.5\n",
            "expected_number_relocation_moves_after:3.111111111111111\n",
            "Bay 0:\n",
            "1 |   |   |  \n",
            "4 |   | 1 |  \n",
            "4 | 3 | 2 | 4\n",
            "5 | 3 | 2 | 1\n",
            "improvement 2: -2.4000000000000004\n",
            "moves: 4\n",
            "expected_number_relocation_moves_before:2.5\n",
            "expected_number_relocation_moves_after:2.5\n",
            "Bay 0:\n",
            "  | 1 |   |  \n",
            "4 | 4 | 1 |  \n",
            "4 | 3 | 2 |  \n",
            "5 | 3 | 2 | 1\n",
            "improvement 3: -1.2000000000000002\n",
            "moves: 2\n",
            "expected_number_relocation_moves_before:2.5\n",
            "expected_number_relocation_moves_after:2.5\n",
            "Bay 0:\n",
            "  | 1 |   |  \n",
            "4 | 4 | 1 |  \n",
            "4 | 3 | 2 |  \n",
            "5 | 3 | 2 | 1\n",
            "improvement 0: -2.8\n",
            "moves: 3\n",
            "expected_number_relocation_moves_before:2.5\n",
            "expected_number_relocation_moves_after:3.5\n",
            "Bay 0:\n",
            "2 | 1 |   |  \n",
            "4 | 4 |   | 2\n",
            "4 | 3 |   | 1\n",
            "5 | 3 |   | 1\n",
            "improvement 1: -3.4000000000000004\n",
            "moves: 4\n",
            "expected_number_relocation_moves_before:2.5\n",
            "expected_number_relocation_moves_after:3.5\n",
            "Bay 0:\n",
            "1 | 2 |   |  \n",
            "4 | 4 |   | 1\n",
            "4 | 3 |   | 2\n",
            "5 | 3 |   | 1\n",
            "improvement 2: -3.1500000000000004\n",
            "moves: 4\n",
            "expected_number_relocation_moves_before:2.5\n",
            "expected_number_relocation_moves_after:3.25\n",
            "Bay 0:\n",
            "1 | 1 |   |  \n",
            "4 | 4 |   |  \n",
            "4 | 3 |   | 2\n",
            "5 | 3 | 2 | 1\n",
            "improvement 3: -0.6000000000000001\n",
            "moves: 1\n",
            "expected_number_relocation_moves_before:2.5\n",
            "expected_number_relocation_moves_after:2.5\n",
            "Bay 0:\n",
            "  | 1 |   |  \n",
            "4 | 4 | 1 |  \n",
            "4 | 3 | 2 |  \n",
            "5 | 3 | 2 | 1\n",
            "improvement 0: -1.2000000000000002\n",
            "moves: 2\n",
            "expected_number_relocation_moves_before:2.5\n",
            "expected_number_relocation_moves_after:2.5\n",
            "Bay 0:\n",
            "2 | 1 |   |  \n",
            "4 | 4 |   |  \n",
            "4 | 3 |   | 1\n",
            "5 | 3 | 2 | 1\n",
            "improvement 1: -1.7999999999999998\n",
            "moves: 3\n",
            "expected_number_relocation_moves_before:2.5\n",
            "expected_number_relocation_moves_after:2.5\n",
            "Bay 0:\n",
            "1 | 2 |   |  \n",
            "4 | 4 |   |  \n",
            "4 | 3 |   | 1\n",
            "5 | 3 | 2 | 1\n",
            "improvement 2: -1.7999999999999998\n",
            "moves: 3\n",
            "expected_number_relocation_moves_before:2.5\n",
            "expected_number_relocation_moves_after:2.5\n",
            "Bay 0:\n",
            "1 | 1 |   |  \n",
            "4 | 4 |   |  \n",
            "4 | 3 | 2 |  \n",
            "5 | 3 | 2 | 1\n",
            "improvement 3: -0.6000000000000001\n",
            "moves: 1\n",
            "expected_number_relocation_moves_before:2.5\n",
            "expected_number_relocation_moves_after:2.5\n",
            "Bay 0:\n",
            "  | 1 |   |  \n",
            "4 | 4 | 1 |  \n",
            "4 | 3 | 2 |  \n",
            "5 | 3 | 2 | 1\n"
          ]
        }
      ]
    },
    {
      "cell_type": "markdown",
      "source": [
        "This results in the bay found with the other housekeeping algorithm, and leads to a better total improvement."
      ],
      "metadata": {
        "id": "OuflZEmhCYKF"
      }
    },
    {
      "cell_type": "code",
      "source": [
        "print(new_module)"
      ],
      "metadata": {
        "colab": {
          "base_uri": "https://localhost:8080/"
        },
        "id": "Emwqu9FPBzwT",
        "outputId": "86efaf59-39f0-40ed-9007-c317910908b6"
      },
      "execution_count": 46,
      "outputs": [
        {
          "output_type": "stream",
          "name": "stdout",
          "text": [
            "Bay 0:\n",
            "  | 1 |   |  \n",
            "4 | 4 | 1 |  \n",
            "4 | 3 | 2 |  \n",
            "5 | 3 | 2 | 1\n"
          ]
        }
      ]
    },
    {
      "cell_type": "code",
      "source": [
        "look_ahead_shifting_costs(new_module)"
      ],
      "metadata": {
        "colab": {
          "base_uri": "https://localhost:8080/"
        },
        "id": "acQJxpOfB1kK",
        "outputId": "bfde14b1-a808-4319-dbb7-2057b5794373"
      },
      "execution_count": 47,
      "outputs": [
        {
          "output_type": "execute_result",
          "data": {
            "text/plain": [
              "2.5"
            ]
          },
          "metadata": {},
          "execution_count": 47
        }
      ]
    },
    {
      "cell_type": "code",
      "source": [
        "Improvement=look_ahead_shifting_costs(module)-look_ahead_shifting_costs(new_module)-alpha*len(moves)\n",
        "print(Improvement)"
      ],
      "metadata": {
        "colab": {
          "base_uri": "https://localhost:8080/"
        },
        "id": "B06dNJ51B8Be",
        "outputId": "779d644b-5c60-42ff-e136-93def217d388"
      },
      "execution_count": 48,
      "outputs": [
        {
          "output_type": "stream",
          "name": "stdout",
          "text": [
            "1.75\n"
          ]
        }
      ]
    }
  ]
}