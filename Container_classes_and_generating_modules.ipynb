{
  "cells": [
    {
      "cell_type": "markdown",
      "metadata": {
        "id": "view-in-github",
        "colab_type": "text"
      },
      "source": [
        "<a href=\"https://colab.research.google.com/github/jonasvdbran/Masterthesis-SCRPPP/blob/main/Container_classes_and_generating_modules.ipynb\" target=\"_parent\"><img src=\"https://colab.research.google.com/assets/colab-badge.svg\" alt=\"Open In Colab\"/></a>"
      ]
    },
    {
      "cell_type": "code",
      "execution_count": null,
      "metadata": {
        "id": "fTKcZ0IUo3zh"
      },
      "outputs": [],
      "source": [
        "import numpy as np\n",
        "import random"
      ]
    },
    {
      "cell_type": "markdown",
      "metadata": {
        "id": "Q7gng4Iqo892"
      },
      "source": [
        "# Classes"
      ]
    },
    {
      "cell_type": "markdown",
      "metadata": {
        "id": "-XE2jPM6sZqr"
      },
      "source": [
        "**Containers**"
      ]
    },
    {
      "cell_type": "code",
      "execution_count": null,
      "metadata": {
        "id": "Z-I1jqYbpBNp"
      },
      "outputs": [],
      "source": [
        "class Container:\n",
        "  def __init__(self,value,ID=\"\",placed=False):\n",
        "    # A container has a value, representing it's dwell time.\n",
        "    # A container also has a binary 'placed' attribute, this is altered in the pre-processing algorithm,\n",
        "    # when a container has been processed.\n",
        "    self.value=value\n",
        "    self.placed=placed\n",
        "    self.ID=ID\n",
        "\n",
        "  # 2 different ways to display a container\n",
        "  def __str__(self):\n",
        "    return str(self.value)\n",
        "  def __repr__(self):\n",
        "    return f\"Container{self.value,self.ID,self.placed}\"\n",
        "\n",
        "  def copy(self):\n",
        "    return Container(self.value,self.ID,self.placed)\n",
        "\n",
        "  # Comparison of containers is based on it's value, can't compare containers with other objects\n",
        "  def __le__(self, other):\n",
        "    if isinstance(other,Container):\n",
        "      return self.value<=other.value\n",
        "    else:\n",
        "      raise TypeError(\"Can't compare instances of class Container with other objects\")\n",
        "\n",
        "  def __ge__(self, other):\n",
        "    if isinstance(other,Container):\n",
        "      return self.value>=other.value\n",
        "    else:\n",
        "      raise TypeError(\"Can't compare instances of class Container with other objects\")\n",
        "\n",
        "  def __lt__(self, other):\n",
        "    if isinstance(other,Container):\n",
        "      return self.value<other.value\n",
        "    else:\n",
        "      raise TypeError(\"Can't compare instances of class Container with other objects\")\n",
        "\n",
        "  def __gt__(self, other):\n",
        "    if isinstance(other,Container):\n",
        "      return self.value>other.value\n",
        "    else:\n",
        "      raise TypeError(\"Can't compare instances of class Container with other objects\")\n",
        "  def __eq__(self,other):\n",
        "    if isinstance(other,Container):\n",
        "      return self.value==other.value\n",
        "    else:\n",
        "      raise TypeError(\"Can't compare instances of class Container with other objects\")\n",
        "  def __ne__(self, other):\n",
        "    if isinstance(other, Container):\n",
        "        return self.value != other.value\n",
        "    return TypeError(\"Can't compare instances of class Container with other objects\")"
      ]
    },
    {
      "cell_type": "markdown",
      "metadata": {
        "id": "2vMmrjZ-sfkF"
      },
      "source": [
        "**Stacks**"
      ]
    },
    {
      "cell_type": "code",
      "execution_count": null,
      "metadata": {
        "id": "JDObZG9ZsYEM"
      },
      "outputs": [],
      "source": [
        "class Stack:\n",
        "  def __init__(self,lst,max_height,ID=\"\"):\n",
        "    # A stack consists of a list of container type objects\n",
        "    # Each stack has a max_height, its length cannot exceed this.\n",
        "    # The first container of the list is the bottom container, the last is the top\n",
        "    self.ID=ID\n",
        "    if max_height <= 0:\n",
        "        raise ValueError(\"Max height must be positive.\")\n",
        "\n",
        "    if len(lst)>max_height:\n",
        "      raise ValueError(\"Initial list exceeds the maximum allowed length.\")\n",
        "    if not all(isinstance(container, Container) for container in lst):\n",
        "        raise TypeError(\"All items in the stack must be instances of the Container class.\")\n",
        "\n",
        "    self.max_height=max_height\n",
        "    self.containers=list(lst)\n",
        "\n",
        "  def __len__(self):\n",
        "    return len(self.containers)\n",
        "\n",
        "  def __getitem__(self, index):\n",
        "    if isinstance(index, slice):\n",
        "        container_values= [container.value for container in self.containers]\n",
        "        return container_values[index]\n",
        "\n",
        "    elif isinstance(index, (int, np.integer)):\n",
        "        if index >= len(self.containers):\n",
        "            raise IndexError(\"Stack index out of range.\")\n",
        "        else:\n",
        "          return self.containers[index]\n",
        "    else:\n",
        "        raise TypeError(\"Invalid argument type. Index must be an integer or a slice.\")\n",
        "\n",
        "\n",
        "  def copy(self):\n",
        "    return Stack([container.copy() for container in self.containers],self.max_height,self.ID)\n",
        "\n",
        "  # We can ask a stack if it's full or empty\n",
        "  def is_full(self):\n",
        "    return len(self.containers)==self.max_height\n",
        "  def is_empty(self):\n",
        "    return len(self.containers)==0\n",
        "\n",
        "  # We can push a container on top of the stack or pop the top container.\n",
        "  def pop(self):\n",
        "    if self.is_empty():\n",
        "      raise IndexError(\"Cannot pop item: the stack is empty.\")\n",
        "    # The top container of a stack can be popped (the top being the last one in the list)\n",
        "    container= self.containers.pop(-1)\n",
        "    return container\n",
        "\n",
        "  def push(self,container):\n",
        "    # A container cannot be pushed on the stack if it's full\n",
        "    if self.is_full():\n",
        "      raise OverflowError(\"Cannot add item: the stack is full.\")\n",
        "    self.containers.append(container)\n",
        "\n",
        "  # 2 ways of displaying a stack\n",
        "  def __str__(self):\n",
        "    return \"Stack: \\n\"+\"\\n\".join(str(item) for item in reversed(self.containers))\n",
        "  def __repr__(self):\n",
        "    return f\"Stack({self.containers})\"\n",
        "\n",
        "  # We can iterate over a stack\n",
        "  def __iter__(self):\n",
        "      return iter(self.containers)"
      ]
    },
    {
      "cell_type": "markdown",
      "metadata": {
        "id": "OrKUFhhnwjsb"
      },
      "source": [
        "**Bays**"
      ]
    },
    {
      "cell_type": "code",
      "execution_count": null,
      "metadata": {
        "id": "gWHRXaaQwigB"
      },
      "outputs": [],
      "source": [
        "class Bay:\n",
        "  def __init__(self,lst_stacks,max_height,ID=\"\"):\n",
        "    # A bay consists of a list of stacks. Each stack must have the same max_height. A bay is a 2D object (# stacks, max_height).\n",
        "    if any(stack.max_height!=max_height for stack in lst_stacks):\n",
        "      raise ValueError(\"All stacks must have the same max height.\")\n",
        "\n",
        "    if not all(isinstance(stack, Stack) for stack in lst_stacks):\n",
        "        raise TypeError(\"All items in the bay must be instances of the Stack class.\")\n",
        "\n",
        "    self.stacks=lst_stacks\n",
        "    self.max_height=max_height\n",
        "    self.containers=[container for stack in self.stacks for container in stack.containers]\n",
        "    self.ID=ID\n",
        "\n",
        "  def size(self):\n",
        "    return (len(self.stacks),self.max_height)\n",
        "\n",
        "  def copy(self):\n",
        "    return Bay([stack.copy() for stack in self.stacks],self.max_height,self.ID)\n",
        "\n",
        "  def __getitem__(self, index):\n",
        "        # Handles the tuple indexing case, returns container\n",
        "        if isinstance(index,tuple):\n",
        "          if len(index)>2:\n",
        "            raise IndexError(\"Index has too many dimensions\")\n",
        "          else:\n",
        "            return self.stacks[index[0]][index[1]]\n",
        "\n",
        "        # Handles the integer index case, returns stack\n",
        "        if isinstance(index,int):\n",
        "          if index >= len(self.stacks):\n",
        "              raise IndexError(\"Stackindex out of range.\")\n",
        "          else:\n",
        "            return self.stacks[index]\n",
        "        # Handles the slicing case\n",
        "        elif isinstance(index,slice):\n",
        "          return [stack for stack in self.stacks[index]]\n",
        "        else:\n",
        "         raise TypeError(\"Invalid argument type. Index must be an integer, tuple or a slice.\")\n",
        "\n",
        "  def __len__(self):\n",
        "    return len(self.stacks)\n",
        "\n",
        "  # We can move top containers from one stack in the bay to another in the bay\n",
        "  def move(self,stack_index,destination_stack_index,in_place=False):\n",
        "    if in_place:\n",
        "      container_bay=self\n",
        "    else:\n",
        "      container_bay=self.copy()\n",
        "\n",
        "    if container_bay.stacks[stack_index].is_empty():\n",
        "        raise IndexError(\"Source stack is empty.\")\n",
        "    container=container_bay.stacks[stack_index].pop()\n",
        "    container_bay.stacks[destination_stack_index].push(container)\n",
        "    if not in_place:\n",
        "      return container_bay\n",
        "\n",
        "  # Find the container with the maximum value across all stacks\n",
        "  def max_container(self):\n",
        "    return max(\n",
        "        (container for container in self.containers if container.value != float('inf')),\n",
        "        default=Container(-1))  # In case all values are infinity\n",
        "\n",
        "  def min_container(self):\n",
        "    return min(\n",
        "        (container for container in self.containers if container.value != float('inf')),\n",
        "        default=Container(np.inf))  # In case all values are infinity\n",
        "\n",
        "\n",
        "  # A bay can find where the containers with specified values are located.\n",
        "  # If a container is already placed, it won't show up in the result.\n",
        "  # This is used in the pre_processing\n",
        "  def where_value(self, value):\n",
        "    occurrences = []\n",
        "    for i, stack in enumerate(self.stacks):\n",
        "        for j, container in enumerate(stack.containers):\n",
        "            if container.value == value and not container.placed:\n",
        "                occurrences.append((i, j))\n",
        "    return occurrences\n",
        "\n",
        "  # 2 different ways to display a bay\n",
        "  def __str__(self):\n",
        "    rows = []\n",
        "    col_width = max(len(str(container.value)) for stack in self.stacks for container in stack.containers)  # Find the longest number for alignment\n",
        "\n",
        "    for i in range(self.max_height - 1, -1, -1):\n",
        "        row = [str(stack.containers[i].value).rjust(col_width) if i < len(stack) else \" \" * col_width\n",
        "               for stack in self.stacks]\n",
        "        rows.append(\" | \".join(row))  # Join columns with spacing\n",
        "    header=[f\"Bay {self.ID}:\\n\"] if self.ID else []\n",
        "    return \"\\n\".join(header+rows)\n",
        "  def __repr__(self):\n",
        "    return f\"Bay({self.stacks})\"\n",
        "\n",
        "  def __iter__(self):\n",
        "    return iter(self.stacks)"
      ]
    },
    {
      "cell_type": "markdown",
      "metadata": {
        "id": "9DN0hMVavyDs"
      },
      "source": [
        "**Modules**"
      ]
    },
    {
      "cell_type": "code",
      "execution_count": null,
      "metadata": {
        "id": "i66FWyo0v2l7"
      },
      "outputs": [],
      "source": [
        "class Module:\n",
        "  def __init__(self,lst_bays,max_height,ID=\"\"):\n",
        "    # A module consists of a list of bays. A bay is a 3D object (#bays, #stacks, max_height)\n",
        "    if any(bay.max_height!=max_height for bay in lst_bays):\n",
        "      raise ValueError(\"All stacks must have the same height.\")\n",
        "    if not all(isinstance(bay,Bay) for bay in lst_bays):\n",
        "      raise TypeError(\"All items in the module must be instances of the Bay class.\")\n",
        "\n",
        "    self.bays=lst_bays\n",
        "    self.max_height=max_height\n",
        "    self.containers=[bay.containers for bay in lst_bays]\n",
        "    self.stacks=[stack for bay in self.bays for stack in bay]\n",
        "    self.ID=ID\n",
        "  def __len__(self):\n",
        "    return len(self.bays)\n",
        "\n",
        "  def size(self):\n",
        "    twoD_size=self.bays[0].size()\n",
        "    return (len(self.bays),twoD_size[0],twoD_size[1])\n",
        "\n",
        "  def __iter__(self):\n",
        "    return iter(self.bays)\n",
        "\n",
        "  def copy(self):\n",
        "    return Module([bay.copy() for bay in self.bays],self.max_height,self.ID)\n",
        "\n",
        "  def __getitem__(self, index):\n",
        "    # Handles index of type tuple\n",
        "    if isinstance(index, tuple):\n",
        "      if len(index) == 3:\n",
        "      # 3D index case: Access specific container in a stack within a bay\n",
        "        return self.bays[index[0]][index[1]][index[2]]\n",
        "      elif len(index) == 2:\n",
        "      # 2D index case: Access a stack within a bay\n",
        "        return self.bays[index[0]][index[1]]\n",
        "      else:\n",
        "        raise IndexError(\"Index must be either 2D or 3D (tuple of length 2 or 3).\")\n",
        "\n",
        "    # Handles index of type integer\n",
        "    elif isinstance(index, int):\n",
        "      if index >= len(self.bays):\n",
        "        raise IndexError(\"Index out of range for bays.\")\n",
        "      else:\n",
        "        return self.bays[index]\n",
        "\n",
        "    # Handles index of type slice\n",
        "    elif isinstance(index, slice):\n",
        "      return [bay for bay in self.bays[index]]\n",
        "    else:\n",
        "        raise TypeError(\"Invalid argument type. Index must be an integer or a tuple.\")\n",
        "  # We can move top containers from one stack in the module to another stack in the module\n",
        "  def move(self,stack_index,destination_stack_index,in_place=True):\n",
        "    if not in_place:\n",
        "      container_module=self.copy()\n",
        "    else:\n",
        "      container_module=self\n",
        "    if container_module[stack_index[0]][stack_index[1]].is_empty():\n",
        "        raise IndexError(\"Source stack is empty.\")\n",
        "    container=container_module.bays[stack_index[0]][stack_index[1]].pop()\n",
        "    container_module.bays[destination_stack_index[0]][destination_stack_index[1]].push(container)\n",
        "    if not in_place:\n",
        "      return container_module\n",
        "\n",
        "  # Find the container with the maximum value across all stacks\n",
        "  def max_container(self):\n",
        "    return max(\n",
        "        [bay.max_container() for bay in self.bays])\n",
        "\n",
        "  def min_container(self):\n",
        "    return min(\n",
        "        [bay.min_container() for bay in self.bays])\n",
        "\n",
        "  # 2 different ways to display modules\n",
        "  def __str__(self):\n",
        "    return \"\\n\\n\".join([f\"Bay {i}:\\n{str(bay)}\" if not bay.ID else f\"{str(bay)}\" for i, bay in enumerate(self.bays)])\n",
        "\n",
        "\n",
        "  def __repr__(self):\n",
        "    return f\"Module({repr(self.bays)})\"\n",
        "\n",
        "  # A bay can find where the containers with specified values are located.\n",
        "  # If a container is already placed, it won't show up in the result.\n",
        "  # This is used in the pre_processing\n",
        "  def where_value(self, value):\n",
        "    occurrences = []\n",
        "    for i, bay in enumerate(self.bays):\n",
        "        for j, stack in enumerate(bay.stacks):\n",
        "          for k, container in enumerate(stack.containers):\n",
        "            if container.value == value and not container.placed:\n",
        "                occurrences.append((i,j,k))\n",
        "    return occurrences"
      ]
    },
    {
      "cell_type": "markdown",
      "metadata": {
        "id": "Bs5SAf9C362z"
      },
      "source": [
        "# Generating a module\n"
      ]
    },
    {
      "cell_type": "code",
      "execution_count": null,
      "metadata": {
        "id": "m7ku3kIh398s"
      },
      "outputs": [],
      "source": [
        "def discrete_triangle_distribution(mode,left,right)->int:\n",
        "  \"\"\"\n",
        "\n",
        "  Args:\n",
        "    mode: mode of distribution\n",
        "    left: left bound of distribution (included)\n",
        "    right: right bound of distribution (included)\n",
        "\n",
        "  Returns: Discretized sample (floor) from triangle distribution in range [left,right], with specified mode.\n",
        "\n",
        "  \"\"\"\n",
        "  return int(round(np.random.triangular(left, mode, right)))"
      ]
    },
    {
      "cell_type": "code",
      "execution_count": null,
      "metadata": {
        "id": "qxfJ1X9_4Eis"
      },
      "outputs": [],
      "source": [
        "def generate_stack(max_height:int,max_dwell_time:int,mode:int)-> Stack:\n",
        "  \"\"\"\n",
        "\n",
        "  Args:\n",
        "    max_height: maximum height of stack\n",
        "    max_dwell_time: maximum value of containers\n",
        "    mode: mode of distribution of the height of the stack\n",
        "\n",
        "  Returns: returns randomly filled stack\n",
        "\n",
        "  \"\"\"\n",
        "  # Gets a random value of height of stack and returns a filled stack with this height.\n",
        "  height=discrete_triangle_distribution(mode,0,max_height) #Draws a number from 1 to max_height+1 according to triangle distribution\n",
        "  return Stack([Container(value, False) for value in np.random.randint(1,max_dwell_time+1,size=height)],max_height)"
      ]
    },
    {
      "cell_type": "code",
      "execution_count": null,
      "metadata": {
        "id": "3WC0Onyg4Hdv"
      },
      "outputs": [],
      "source": [
        "def generate_bay(stacks,max_height:int,max_dwell_time:int,mode:int):\n",
        "  \"\"\"\n",
        "\n",
        "  Args:\n",
        "    max_height: maximum height of stacks\n",
        "    stacks: number of stacks\n",
        "    max_dwell_time: maximum value of containers\n",
        "    mode: mode of distribution of the height of the stacks\n",
        "\n",
        "  Returns: randomly filled bay\n",
        "\n",
        "  \"\"\"\n",
        "  bay= []\n",
        "  for i in range(stacks):\n",
        "    bay.append(generate_stack(max_height,max_dwell_time,mode))\n",
        "  return Bay(bay,max_height)"
      ]
    },
    {
      "cell_type": "code",
      "execution_count": null,
      "metadata": {
        "id": "9YdrhCN_4Jz4"
      },
      "outputs": [],
      "source": [
        "def generate_module(bays:int,stacks:int,max_height:int,max_dwell_time:int,mode:int)-> Module:\n",
        "  \"\"\"\n",
        "\n",
        "  Args:\n",
        "    bays: number of bays\n",
        "    stacks: number of stacks per bay\n",
        "    max_height: maximum height of stacks\n",
        "    max_dwell_time: maximum value of containers\n",
        "    mode: mode of distribution of the height of the stack\n",
        "\n",
        "  Returns: randomly filled module\n",
        "\n",
        "  \"\"\"\n",
        "  module=[]\n",
        "  for i in range(bays):\n",
        "    bay=generate_bay(stacks,max_height,max_dwell_time,mode)\n",
        "    module.append(bay)\n",
        "  return Module(module,max_height)"
      ]
    },
    {
      "cell_type": "code",
      "execution_count": null,
      "metadata": {
        "id": "ZhpDVKCL4sKh"
      },
      "outputs": [],
      "source": [
        "#module1=generate_module(5,5,5,6,5)\n",
        "#print(module1)"
      ]
    },
    {
      "cell_type": "code",
      "source": [],
      "metadata": {
        "id": "C4ZaGloNMipN"
      },
      "execution_count": null,
      "outputs": []
    },
    {
      "cell_type": "markdown",
      "source": [
        "# Obtaining a module from a list of stacks\n"
      ],
      "metadata": {
        "id": "FpkLclZNMkfo"
      }
    },
    {
      "cell_type": "code",
      "source": [
        "module_lst=[[\"1_1_9\",169492,0,169493,0,154830,206,156893,319,157753,216,0,0],[\"1_2_2\",147240,116,152115,313,154739,115,156985,112,0,0,0,0],[\"1_2_3\",147340,108,152509,113,154766,207,157005,212,0,0,0,0],[\"1_2_4\",147357,15,152558,212,154800,117,155822,13,0,0,0,0],[\"1_2_5\",148764,17,152246,210,155175,116,157025,812,157689,406,0,0],[\"1_2_6\",148896,106,152597,15,154850,816,156283,14,0,0,0,0],[\"1_2_7\",148997,102,152627,413,154912,207,157013,319,0,0,0,0],[\"1_2_8\",149876,210,152571,213,155187,307,157034,414,157708,322,0,0],[\"1_2_9\",169494,0,169495,0,154952,215,155828,113,0,0,0,0],[\"1_3_2\",147240,116,152115,313,154739,115,156985,112,0,0,0,0],[\"1_3_3\",147340,108,152509,113,154766,207,157005,212,0,0,0,0],[\"1_3_4\",147357,15,152558,212,154800,117,155822,13,0,0,0,0],[\"1_3_6\",148896,106,152597,15,154850,816,156283,14,0,0,0,0],[\"1_3_7\",148997,102,152627,413,154912,207,157013,319,0,0,0,0],[\"1_3_9\",169494,0,169495,0,154952,215,155828,113,0,0,0,0],[\"1_4_2\",150274,121,153210,107,154996,315,157077,412,0,0,0,0],[\"1_4_3\",150340,314,153258,313,155016,10,157098,208,0,0,0,0],[\"1_4_5\",150622,17,153421,216,155263,710,156418,213,0,0,0,0],[\"1_4_6\",150871,18,153331,214,155038,113,157154,707,0,0,0,0],[\"1_4_7\",150924,211,153361,112,155064,207,157181,312,0,0,0,0],[\"1_4_8\",149986,15,152953,8,155319,119,157058,118,0,0,0,0],['1_4_9',169496,0,169497,0,155100,414,156421,12,0,0,0,0],['1_5_2',150274,121,153210,107,154996,315,157077,412,0,0,0,0],['1_5_3',150340,314,153258,313,155016,10,157098,208,0,0,0,0],['1_5_5',150622,17,153421,216,155263,710,156418,213,0,0,0,0],['1_5_6',150871,18,153331,214,155038,113,157154,707,0,0,0,0],['1_5_7',150924,211,153361,112,155064,207,157181,312,0,0,0,0],['1_5_9',169496,0,169497,0,155100,414,156421,12,0,0,0,0],['1_5_8',169506,0,153123,106,155332,213,156490,319,0,0,0,0],['1_6_2',151116,115,153442,304,155345,113,156446,12,0,0,0,0],['1_6_3',151305,107,153463,113,155413,14,156469,115,0,0,0,0],['1_6_4',151876,413,153690,216,155391,320,156522,718,0,0,0,0],['1_6_5',151874,310,153554,318,155470,214,157265,114,0,0,0,0],['1_6_6',151490,313,153599,114,155490,117,157288,1011,0,0,0,0],['1_6_7',151517,210,153643,309,155546,308,157307,209,0,0,0,0],['1_6_9',169498,0,169499,0,155592,8,157322,112,0,0,0,0],['1_6_8',169507,0,153743,104,156002,118,156531,306,0,0,0,0],['1_7_2',151116,115,153442,304,155345,113,156446,12,0,0,0,0],['1_7_3',151305,107,153463,113,155413,14,156469,115,0,0,0,0],['1_7_4',151858,209,153960,209,155508,306,156676,808,0,0,0,0],['1_7_5',151874,310,153554,318,155470,214,157265,114,0,0,0,0],['1_7_6',151490,313,153599,114,155490,117,157288,1011,0,0,0,0],['1_7_7',151517,210,153643,309,155546,308,157307,209,0,0,0,0],['1_7_9',169498,0,169499,0,155592,8,157322,112,0,0,0,0],['1_7_8',169507,0,153743,104,156002,118,156531,306,0,0,0,0],['1_8_8',151691,408,153987,311,156761,308,157447,220,0,0,0,0],['1_8_9',151704,18,152373,311,152374,521,152375,405,152379,313,0,0],['1_9_8',151691,408,153987,311,156761,308,157447,220,0,0,0,0],['1_9_9',151704,18,152373,311,152374,521,152375,405,152379,313,0,0],['1_16_3',153689,12,154301,10,154303,111,157602,908,0,0,0,0],['1_16_4',153731,20,153796,14,153798,409,153799,118,153800,17,0,0],['1_16_7',153777,110,156006,318,157374,407,0,0,0,0,0,0],['1_16_9',153824,13,156031,14,157384,208,0,0,0,0,0,0],['1_17_4',153731,20,153796,14,153798,409,153799,118,153800,17,0,0],['1_17_7',153777,110,156006,318,157374,407,0,0,0,0,0,0],['1_17_9',153824,13,156031,14,157384,208,0,0,0,0,0,0],['1_18_2',154030,8,154079,123,154409,407,154083,208,154411,118,154412,412],['1_18_3',154037,15,154414,101,154416,120,154417,2,154418,108,154419,303],['1_18_4',154075,307,156112,15,157868,312,0,0,0,0,0,0],['1_18_5',154090,14,156132,318,157479,716,0,0,0,0,0,0],['1_18_6',154455,106,156819,19,156659,412,0,0,0,0,0,0],['1_18_8',154151,113,156833,812,157526,218,0,0,0,0,0,0],['1_18_9',154473,8,156849,8,157545,918,0,0,0,0,0,0],['1_19_2',154030,8,154079,123,154409,407,154083,208,154411,118,154412,412],['1_19_3',154037,15,154414,101,154416,120,154417,2,154418,108,154419,303],['1_19_4',154075,307,156112,15,157868,312,0,0,0,0,0,0],['1_19_5',154090,14,156132,318,157479,716,0,0,0,0,0,0],['1_19_6',154455,106,156819,19,156659,412,0,0,0,0,0,0],['1_19_8',154151,113,156833,812,157526,218,0,0,0,0,0,0],['1_19_9',154473,8,156849,8,157545,918,0,0,0,0,0,0]]"
      ],
      "metadata": {
        "id": "vefcrEV9d_Ys"
      },
      "execution_count": null,
      "outputs": []
    },
    {
      "cell_type": "code",
      "source": [
        "def lst_to_container_module(module_lst):\n",
        "\n",
        "  stack_height=int((len(module_lst[0])-1)/2)\n",
        "\n",
        "  # Sort the module based on cellKey, so we get all bays and stacks in right order\n",
        "  module_lst = sorted(module_lst,key=lambda x: x[0])\n",
        "  bays=dict()\n",
        "  for index, stack in enumerate(module_lst):\n",
        "    stack_lst=[]\n",
        "    for i in range(1,stack_height+1):\n",
        "      # Obtain the ID and time slot\n",
        "      # ID at odd places, value at even place, it's always ID,value\n",
        "      container_ID= stack[i*2-1]\n",
        "      container_value= stack[i*2]\n",
        "      # ID 0 -> No container\n",
        "      if container_ID ==0:\n",
        "        break\n",
        "      else:\n",
        "        # Container value 0 is a special container\n",
        "        if container_value==0:\n",
        "          stack_lst.append(Container(np.inf,container_ID))\n",
        "        else:\n",
        "          stack_lst.append(Container(container_value,container_ID))\n",
        "\n",
        "    cellKey=stack[0]\n",
        "    stack=Stack(stack_lst,stack_height,ID=cellKey)\n",
        "    parts = cellKey.split(\"_\")\n",
        "    # Get bay and module index\n",
        "    module_index=int(parts[0])\n",
        "    bay_index=int(parts[1])\n",
        "\n",
        "    # If bay already exists, add stack to it, otherwise create new bay\n",
        "    bay=bays.get((module_index,bay_index),[])\n",
        "    bay.append(stack)\n",
        "    # Update bay with new stack added\n",
        "    bays[module_index,bay_index]=bay\n",
        "  bays = dict(sorted(bays.items()))\n",
        "  # Returns a list of modules\n",
        "  module=[Bay(bays[key],stack_height,ID=f\"{key[0]}_{key[1]}\") for key in bays]\n",
        "  return Module(module,stack_height,ID=f\"{module_index}\")"
      ],
      "metadata": {
        "id": "nQIyqxuBZ3_7"
      },
      "execution_count": null,
      "outputs": []
    },
    {
      "cell_type": "code",
      "source": [
        "module=lst_to_container_module(module_lst)\n",
        "print(module)"
      ],
      "metadata": {
        "colab": {
          "base_uri": "https://localhost:8080/"
        },
        "id": "BebFWLoAlQtt",
        "outputId": "5216523d-9252-4be7-bd6a-349200baf2bd"
      },
      "execution_count": null,
      "outputs": [
        {
          "output_type": "stream",
          "name": "stdout",
          "text": [
            "Bay 1_1:\n",
            "\n",
            "   \n",
            "216\n",
            "319\n",
            "206\n",
            "inf\n",
            "inf\n",
            "\n",
            "Bay 1_2:\n",
            "\n",
            "    |     |     |     |     |     |     |    \n",
            "    |     |     | 406 |     |     | 322 |    \n",
            "112 | 212 |  13 | 812 |  14 | 319 | 414 | 113\n",
            "115 | 207 | 117 | 116 | 816 | 207 | 307 | 215\n",
            "313 | 113 | 212 | 210 |  15 | 413 | 213 | inf\n",
            "116 | 108 |  15 |  17 | 106 | 102 | 210 | inf\n",
            "\n",
            "Bay 1_3:\n",
            "\n",
            "    |     |     |     |     |    \n",
            "    |     |     |     |     |    \n",
            "112 | 212 |  13 |  14 | 319 | 113\n",
            "115 | 207 | 117 | 816 | 207 | 215\n",
            "313 | 113 | 212 |  15 | 413 | inf\n",
            "116 | 108 |  15 | 106 | 102 | inf\n",
            "\n",
            "Bay 1_4:\n",
            "\n",
            "    |     |     |     |     |     |    \n",
            "    |     |     |     |     |     |    \n",
            "412 | 208 | 213 | 707 | 312 | 118 |  12\n",
            "315 |  10 | 710 | 113 | 207 | 119 | 414\n",
            "107 | 313 | 216 | 214 | 112 |   8 | inf\n",
            "121 | 314 |  17 |  18 | 211 |  15 | inf\n",
            "\n",
            "Bay 1_5:\n",
            "\n",
            "    |     |     |     |     |     |    \n",
            "    |     |     |     |     |     |    \n",
            "412 | 208 | 213 | 707 | 312 | 319 |  12\n",
            "315 |  10 | 710 | 113 | 207 | 213 | 414\n",
            "107 | 313 | 216 | 214 | 112 | 106 | inf\n",
            "121 | 314 |  17 |  18 | 211 | inf | inf\n",
            "\n",
            "Bay 1_6:\n",
            "\n",
            "     |      |      |      |      |      |      |     \n",
            "     |      |      |      |      |      |      |     \n",
            "  12 |  115 |  718 |  114 | 1011 |  209 |  306 |  112\n",
            " 113 |   14 |  320 |  214 |  117 |  308 |  118 |    8\n",
            " 304 |  113 |  216 |  318 |  114 |  309 |  104 |  inf\n",
            " 115 |  107 |  413 |  310 |  313 |  210 |  inf |  inf\n",
            "\n",
            "Bay 1_7:\n",
            "\n",
            "     |      |      |      |      |      |      |     \n",
            "     |      |      |      |      |      |      |     \n",
            "  12 |  115 |  808 |  114 | 1011 |  209 |  306 |  112\n",
            " 113 |   14 |  306 |  214 |  117 |  308 |  118 |    8\n",
            " 304 |  113 |  209 |  318 |  114 |  309 |  104 |  inf\n",
            " 115 |  107 |  209 |  310 |  313 |  210 |  inf |  inf\n",
            "\n",
            "Bay 1_8:\n",
            "\n",
            "    |    \n",
            "    | 313\n",
            "220 | 405\n",
            "308 | 521\n",
            "311 | 311\n",
            "408 |  18\n",
            "\n",
            "Bay 1_9:\n",
            "\n",
            "    |    \n",
            "    | 313\n",
            "220 | 405\n",
            "308 | 521\n",
            "311 | 311\n",
            "408 |  18\n",
            "\n",
            "Bay 1_16:\n",
            "\n",
            "    |     |     |    \n",
            "    |  17 |     |    \n",
            "908 | 118 |     |    \n",
            "111 | 409 | 407 | 208\n",
            " 10 |  14 | 318 |  14\n",
            " 12 |  20 | 110 |  13\n",
            "\n",
            "Bay 1_17:\n",
            "\n",
            "    |     |    \n",
            " 17 |     |    \n",
            "118 |     |    \n",
            "409 | 407 | 208\n",
            " 14 | 318 |  14\n",
            " 20 | 110 |  13\n",
            "\n",
            "Bay 1_18:\n",
            "\n",
            "412 | 303 |     |     |     |     |    \n",
            "118 | 108 |     |     |     |     |    \n",
            "208 |   2 |     |     |     |     |    \n",
            "407 | 120 | 312 | 716 | 412 | 218 | 918\n",
            "123 | 101 |  15 | 318 |  19 | 812 |   8\n",
            "  8 |  15 | 307 |  14 | 106 | 113 |   8\n",
            "\n",
            "Bay 1_19:\n",
            "\n",
            "412 | 303 |     |     |     |     |    \n",
            "118 | 108 |     |     |     |     |    \n",
            "208 |   2 |     |     |     |     |    \n",
            "407 | 120 | 312 | 716 | 412 | 218 | 918\n",
            "123 | 101 |  15 | 318 |  19 | 812 |   8\n",
            "  8 |  15 | 307 |  14 | 106 | 113 |   8\n"
          ]
        }
      ]
    },
    {
      "cell_type": "code",
      "source": [
        "print(module.max_container())"
      ],
      "metadata": {
        "colab": {
          "base_uri": "https://localhost:8080/"
        },
        "id": "hQBnCybwDcf1",
        "outputId": "f2543133-1020-4fc4-ecf0-0a7181b221b0"
      },
      "execution_count": null,
      "outputs": [
        {
          "output_type": "stream",
          "name": "stdout",
          "text": [
            "99999\n"
          ]
        }
      ]
    }
  ],
  "metadata": {
    "colab": {
      "toc_visible": true,
      "provenance": [],
      "authorship_tag": "ABX9TyNTrB3YhhW62Ro+Gkz5oFRo",
      "include_colab_link": true
    },
    "kernelspec": {
      "display_name": "Python 3",
      "name": "python3"
    },
    "language_info": {
      "name": "python"
    }
  },
  "nbformat": 4,
  "nbformat_minor": 0
}