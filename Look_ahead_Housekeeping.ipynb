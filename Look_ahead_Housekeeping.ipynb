{
  "cells": [
    {
      "cell_type": "markdown",
      "metadata": {
        "id": "view-in-github",
        "colab_type": "text"
      },
      "source": [
        "<a href=\"https://colab.research.google.com/github/jonasvdbran/Masterthesis-SCRPPP/blob/main/Look_ahead_Housekeeping.ipynb\" target=\"_parent\"><img src=\"https://colab.research.google.com/assets/colab-badge.svg\" alt=\"Open In Colab\"/></a>"
      ]
    },
    {
      "cell_type": "markdown",
      "source": [
        "First, we import the container_classes file. **Upload container_classes.py via the next block of code.**"
      ],
      "metadata": {
        "id": "yALg04zHPtev"
      }
    },
    {
      "cell_type": "code",
      "source": [
        "from google.colab import files\n",
        "uploaded = files.upload()"
      ],
      "metadata": {
        "colab": {
          "base_uri": "https://localhost:8080/",
          "height": 69
        },
        "id": "S7-Ce1OXOEsQ",
        "outputId": "39efd510-bb25-41cd-b968-105c724f05ff"
      },
      "execution_count": 2,
      "outputs": [
        {
          "output_type": "display_data",
          "data": {
            "text/plain": [
              "<IPython.core.display.HTML object>"
            ],
            "text/html": [
              "\n",
              "     <input type=\"file\" id=\"files-c379b048-fd64-415c-b219-f7e0979102c8\" name=\"files[]\" multiple disabled\n",
              "        style=\"border:none\" />\n",
              "     <output id=\"result-c379b048-fd64-415c-b219-f7e0979102c8\">\n",
              "      Upload widget is only available when the cell has been executed in the\n",
              "      current browser session. Please rerun this cell to enable.\n",
              "      </output>\n",
              "      <script>// Copyright 2017 Google LLC\n",
              "//\n",
              "// Licensed under the Apache License, Version 2.0 (the \"License\");\n",
              "// you may not use this file except in compliance with the License.\n",
              "// You may obtain a copy of the License at\n",
              "//\n",
              "//      http://www.apache.org/licenses/LICENSE-2.0\n",
              "//\n",
              "// Unless required by applicable law or agreed to in writing, software\n",
              "// distributed under the License is distributed on an \"AS IS\" BASIS,\n",
              "// WITHOUT WARRANTIES OR CONDITIONS OF ANY KIND, either express or implied.\n",
              "// See the License for the specific language governing permissions and\n",
              "// limitations under the License.\n",
              "\n",
              "/**\n",
              " * @fileoverview Helpers for google.colab Python module.\n",
              " */\n",
              "(function(scope) {\n",
              "function span(text, styleAttributes = {}) {\n",
              "  const element = document.createElement('span');\n",
              "  element.textContent = text;\n",
              "  for (const key of Object.keys(styleAttributes)) {\n",
              "    element.style[key] = styleAttributes[key];\n",
              "  }\n",
              "  return element;\n",
              "}\n",
              "\n",
              "// Max number of bytes which will be uploaded at a time.\n",
              "const MAX_PAYLOAD_SIZE = 100 * 1024;\n",
              "\n",
              "function _uploadFiles(inputId, outputId) {\n",
              "  const steps = uploadFilesStep(inputId, outputId);\n",
              "  const outputElement = document.getElementById(outputId);\n",
              "  // Cache steps on the outputElement to make it available for the next call\n",
              "  // to uploadFilesContinue from Python.\n",
              "  outputElement.steps = steps;\n",
              "\n",
              "  return _uploadFilesContinue(outputId);\n",
              "}\n",
              "\n",
              "// This is roughly an async generator (not supported in the browser yet),\n",
              "// where there are multiple asynchronous steps and the Python side is going\n",
              "// to poll for completion of each step.\n",
              "// This uses a Promise to block the python side on completion of each step,\n",
              "// then passes the result of the previous step as the input to the next step.\n",
              "function _uploadFilesContinue(outputId) {\n",
              "  const outputElement = document.getElementById(outputId);\n",
              "  const steps = outputElement.steps;\n",
              "\n",
              "  const next = steps.next(outputElement.lastPromiseValue);\n",
              "  return Promise.resolve(next.value.promise).then((value) => {\n",
              "    // Cache the last promise value to make it available to the next\n",
              "    // step of the generator.\n",
              "    outputElement.lastPromiseValue = value;\n",
              "    return next.value.response;\n",
              "  });\n",
              "}\n",
              "\n",
              "/**\n",
              " * Generator function which is called between each async step of the upload\n",
              " * process.\n",
              " * @param {string} inputId Element ID of the input file picker element.\n",
              " * @param {string} outputId Element ID of the output display.\n",
              " * @return {!Iterable<!Object>} Iterable of next steps.\n",
              " */\n",
              "function* uploadFilesStep(inputId, outputId) {\n",
              "  const inputElement = document.getElementById(inputId);\n",
              "  inputElement.disabled = false;\n",
              "\n",
              "  const outputElement = document.getElementById(outputId);\n",
              "  outputElement.innerHTML = '';\n",
              "\n",
              "  const pickedPromise = new Promise((resolve) => {\n",
              "    inputElement.addEventListener('change', (e) => {\n",
              "      resolve(e.target.files);\n",
              "    });\n",
              "  });\n",
              "\n",
              "  const cancel = document.createElement('button');\n",
              "  inputElement.parentElement.appendChild(cancel);\n",
              "  cancel.textContent = 'Cancel upload';\n",
              "  const cancelPromise = new Promise((resolve) => {\n",
              "    cancel.onclick = () => {\n",
              "      resolve(null);\n",
              "    };\n",
              "  });\n",
              "\n",
              "  // Wait for the user to pick the files.\n",
              "  const files = yield {\n",
              "    promise: Promise.race([pickedPromise, cancelPromise]),\n",
              "    response: {\n",
              "      action: 'starting',\n",
              "    }\n",
              "  };\n",
              "\n",
              "  cancel.remove();\n",
              "\n",
              "  // Disable the input element since further picks are not allowed.\n",
              "  inputElement.disabled = true;\n",
              "\n",
              "  if (!files) {\n",
              "    return {\n",
              "      response: {\n",
              "        action: 'complete',\n",
              "      }\n",
              "    };\n",
              "  }\n",
              "\n",
              "  for (const file of files) {\n",
              "    const li = document.createElement('li');\n",
              "    li.append(span(file.name, {fontWeight: 'bold'}));\n",
              "    li.append(span(\n",
              "        `(${file.type || 'n/a'}) - ${file.size} bytes, ` +\n",
              "        `last modified: ${\n",
              "            file.lastModifiedDate ? file.lastModifiedDate.toLocaleDateString() :\n",
              "                                    'n/a'} - `));\n",
              "    const percent = span('0% done');\n",
              "    li.appendChild(percent);\n",
              "\n",
              "    outputElement.appendChild(li);\n",
              "\n",
              "    const fileDataPromise = new Promise((resolve) => {\n",
              "      const reader = new FileReader();\n",
              "      reader.onload = (e) => {\n",
              "        resolve(e.target.result);\n",
              "      };\n",
              "      reader.readAsArrayBuffer(file);\n",
              "    });\n",
              "    // Wait for the data to be ready.\n",
              "    let fileData = yield {\n",
              "      promise: fileDataPromise,\n",
              "      response: {\n",
              "        action: 'continue',\n",
              "      }\n",
              "    };\n",
              "\n",
              "    // Use a chunked sending to avoid message size limits. See b/62115660.\n",
              "    let position = 0;\n",
              "    do {\n",
              "      const length = Math.min(fileData.byteLength - position, MAX_PAYLOAD_SIZE);\n",
              "      const chunk = new Uint8Array(fileData, position, length);\n",
              "      position += length;\n",
              "\n",
              "      const base64 = btoa(String.fromCharCode.apply(null, chunk));\n",
              "      yield {\n",
              "        response: {\n",
              "          action: 'append',\n",
              "          file: file.name,\n",
              "          data: base64,\n",
              "        },\n",
              "      };\n",
              "\n",
              "      let percentDone = fileData.byteLength === 0 ?\n",
              "          100 :\n",
              "          Math.round((position / fileData.byteLength) * 100);\n",
              "      percent.textContent = `${percentDone}% done`;\n",
              "\n",
              "    } while (position < fileData.byteLength);\n",
              "  }\n",
              "\n",
              "  // All done.\n",
              "  yield {\n",
              "    response: {\n",
              "      action: 'complete',\n",
              "    }\n",
              "  };\n",
              "}\n",
              "\n",
              "scope.google = scope.google || {};\n",
              "scope.google.colab = scope.google.colab || {};\n",
              "scope.google.colab._files = {\n",
              "  _uploadFiles,\n",
              "  _uploadFilesContinue,\n",
              "};\n",
              "})(self);\n",
              "</script> "
            ]
          },
          "metadata": {}
        },
        {
          "output_type": "stream",
          "name": "stdout",
          "text": [
            "Saving container_classes.py to container_classes.py\n"
          ]
        }
      ]
    },
    {
      "cell_type": "code",
      "source": [
        "from container_classes import *"
      ],
      "metadata": {
        "id": "MLicU-OrOSQU"
      },
      "execution_count": 3,
      "outputs": []
    },
    {
      "cell_type": "markdown",
      "source": [
        "We again will test the algorithm on our example bay."
      ],
      "metadata": {
        "id": "tdTG1WWFns6V"
      }
    },
    {
      "cell_type": "code",
      "execution_count": 4,
      "metadata": {
        "id": "ZhpDVKCL4sKh",
        "colab": {
          "base_uri": "https://localhost:8080/"
        },
        "outputId": "1ead9c8c-63c5-47b2-d784-fa5785834c70"
      },
      "outputs": [
        {
          "output_type": "stream",
          "name": "stdout",
          "text": [
            "Bay 0:\n",
            "  | 1 |   | 5\n",
            "  | 4 |   | 4\n",
            "2 | 3 |   | 4\n",
            "1 | 3 | 2 | 1\n"
          ]
        }
      ],
      "source": [
        "module=Module([Bay([Stack([Container(1),Container(2)],4),\n",
        "    Stack([Container(3),Container(3),Container(4),Container(1)],4),Stack([Container(2)],4),Stack([Container(1),Container(4),Container(4),Container(5)],4)],4)],4)\n",
        "print(module)"
      ]
    },
    {
      "cell_type": "markdown",
      "source": [
        "# Ideal Stacks"
      ],
      "metadata": {
        "id": "ZFjPv6qsn8gw"
      }
    },
    {
      "cell_type": "markdown",
      "source": [
        "We want to find the ideal stacks in the module to place a container with a certain time slot in. Ideal stacks are defined in section 4.2 and are stacks where a container can be placed in, without needing to be housekept again."
      ],
      "metadata": {
        "id": "VPuVKJQRn_Mn"
      }
    },
    {
      "cell_type": "code",
      "source": [
        "def IdealStacks(module, value,alpha,index):\n",
        "    ideal_stacks = []\n",
        "    for i,bay in enumerate(module):\n",
        "      for j, stack in enumerate(bay):\n",
        "        # Empty stacks are always ideal\n",
        "        if stack.is_empty() and (i,j)!=index:\n",
        "          ideal_stacks.append(((i,j), stack,0))\n",
        "\n",
        "        elif stack.is_full():\n",
        "          continue\n",
        "        elif min(stack).value>= value and IsAcceptable(stack) and (i,j)!=index:\n",
        "            valid = True\n",
        "            blocking_costs=0\n",
        "            for k, container in enumerate(stack):\n",
        "                same_below = [below for below in stack[:k] if below == container.value]\n",
        "                n = len(same_below)+1\n",
        "                # Calculate blocking probability\n",
        "                p = 1 - 1 / n\n",
        "                blocking_costs+=p\n",
        "            same_timeslot=[container for container in stack if container.value==value]\n",
        "            n=len(same_timeslot)+1\n",
        "            p=1-1/n\n",
        "            blocking_costs+=p\n",
        "            # If the blocking costs exceed alpha, we will housekeep -> stack not ideal\n",
        "            if blocking_costs>alpha:\n",
        "              valid=False\n",
        "            if valid:\n",
        "                ideal_stacks.append(((i,j), stack,p))\n",
        "    return ideal_stacks"
      ],
      "metadata": {
        "id": "ZBT03zJdsBrg"
      },
      "execution_count": 5,
      "outputs": []
    },
    {
      "cell_type": "markdown",
      "source": [
        "With \\alpha=0.6, we have that for the container with time slot 2 in the first stack, stack 3 is ideal. It's blocking probability in this stack becomes 0.5, as there is already 1 container in the stack."
      ],
      "metadata": {
        "id": "PPR1QkA1r-Iz"
      }
    },
    {
      "cell_type": "code",
      "source": [
        "IdealStacks(module,2,0.6,(0,0))"
      ],
      "metadata": {
        "colab": {
          "base_uri": "https://localhost:8080/"
        },
        "id": "t8NWwS1mu6gi",
        "outputId": "c1d54585-c1a4-4c48-a957-dfad117e7204"
      },
      "execution_count": 6,
      "outputs": [
        {
          "output_type": "execute_result",
          "data": {
            "text/plain": [
              "[((0, 2), Stack([Container(2, '', False)]), 0.5)]"
            ]
          },
          "metadata": {},
          "execution_count": 6
        }
      ]
    },
    {
      "cell_type": "markdown",
      "source": [
        "# Blocking containers"
      ],
      "metadata": {
        "id": "OdUIeAByszcU"
      }
    },
    {
      "cell_type": "markdown",
      "source": [
        "The next function determines the blocking containers in the module."
      ],
      "metadata": {
        "id": "V5kfg0JLssGU"
      }
    },
    {
      "cell_type": "code",
      "source": [
        "def blocking_containers(module,alpha):\n",
        "  blockings=[]\n",
        "  for i,bay in enumerate(module):\n",
        "    for j,stack in enumerate(bay):\n",
        "      for k,container in enumerate(stack):\n",
        "        if any(stack[-k].value > below for below in stack[:-k]):\n",
        "          # If there is a contain with higher time slot than the ones beneath,\n",
        "          #add this container together with the containers above it to the blocking containers.\n",
        "          blockings.extend((i, j, l) for l in range(len(stack)-k, len(stack)))\n",
        "        elif any(stack[-k].value == below for below in stack[:-k]):\n",
        "          count = sum(stack[-k].value == below for below in stack[:-k])\n",
        "          p=1-1/(count+1)\n",
        "          # If a container has a blocking probability higher than alpha, it will be housekept.\n",
        "          if p>alpha:\n",
        "            blockings.extend((i, j, l) for l in range(len(stack)-k, len(stack)))\n",
        "  return sorted(list(set(blockings)))"
      ],
      "metadata": {
        "id": "Rv991nLNe-TP"
      },
      "execution_count": 8,
      "outputs": []
    },
    {
      "cell_type": "code",
      "source": [
        "blocking_containers(module,0.6)"
      ],
      "metadata": {
        "colab": {
          "base_uri": "https://localhost:8080/"
        },
        "id": "XGOpB3pvg0TY",
        "outputId": "3afec973-6c75-4179-c25f-c510b9b22d64"
      },
      "execution_count": 9,
      "outputs": [
        {
          "output_type": "execute_result",
          "data": {
            "text/plain": [
              "[(0, 0, 1), (0, 1, 2), (0, 1, 3), (0, 3, 1), (0, 3, 2), (0, 3, 3)]"
            ]
          },
          "metadata": {},
          "execution_count": 9
        }
      ]
    },
    {
      "cell_type": "markdown",
      "source": [
        "# Housekeeping costs"
      ],
      "metadata": {
        "id": "--KNR-les5VH"
      }
    },
    {
      "cell_type": "markdown",
      "source": [
        "We implement the estimated housekeeping costs as in equation (4.1): HC(c)=\\alpha(a_c+1)+\\alpha \\min_{\\bar{s} \\in \\bar{s}\\setminus \\{\\bar{s}(c)\\}}M_{\\bar{s}}+h(c). The function CalculateHousekeepingCosts also implements algorithm 7 via EstimateBadHousekeepings."
      ],
      "metadata": {
        "id": "1xSUSPXys_-9"
      }
    },
    {
      "cell_type": "code",
      "source": [
        "# Finds the containers in M_{\\bar{s}}\n",
        "def get_to_move(container_values: list,threshold: int)-> np.array:\n",
        "  smallest_under=np.minimum.accumulate(np.array(container_values))\n",
        "  # Find containers that need to be moved when placing a container w value threshold in stack (i.e. the smallest value under it is smaller than threshold)\n",
        "  return np.array(container_values)[smallest_under<threshold]"
      ],
      "metadata": {
        "id": "1xky71nwtfjN"
      },
      "execution_count": 14,
      "outputs": []
    },
    {
      "cell_type": "code",
      "source": [
        "def CalculateHousekeepingCosts(module,alpha):\n",
        "  h = {}\n",
        "  for x in range(len(module)):\n",
        "    for y in range(len(module[x])):\n",
        "      for z in range(len(module[x][y])):\n",
        "        h[(x,y,z)]=0\n",
        "\n",
        "  H = {}\n",
        "  for x in range(len(module)):\n",
        "    for y in range(len(module[x])):\n",
        "      for z in range(len(module[x][y])):\n",
        "        H[(x,y,z)]=0\n",
        "  # Algorithm 7\n",
        "  def EstimateBadHousekeepings():\n",
        "    blockings=blocking_containers(module,alpha)\n",
        "    for c_b in blockings:\n",
        "      # Add cost of alpha as we need to move it.\n",
        "      H[c_b]+=alpha\n",
        "      containers_above=module[c_b[0]][c_b[1]][c_b[2]+1:]\n",
        "      stack_index=(c_b[0],c_b[1])\n",
        "      # Check containers above it\n",
        "      for c in containers_above:\n",
        "        # Add cost of alpha: need to move containers above.\n",
        "        H[c_b]+=alpha\n",
        "        ideal_stacks=IdealStacks(module,c,alpha,stack_index)\n",
        "        # If it has no ideal stack, add another cost of alpha.\n",
        "        if not(ideal_stacks):\n",
        "          h[c_b]+= alpha\n",
        "\n",
        "      value=module[c_b].value\n",
        "      ideal_stacks=IdealStacks(module,value,alpha,stack_index)\n",
        "      # If the container has no ideal stack to move to:\n",
        "      if not(ideal_stacks):\n",
        "\n",
        "        min_M_s=min(len(get_to_move([container.value for container in stack.containers],value)) for i,bay in enumerate(module) for j,stack in enumerate(bay) if not (i,j)==c_b[:2] and not stack.is_full())\n",
        "        destination_stacks=[((i,j),stack) for i,bay in enumerate(module) for j,stack in enumerate(bay) if len(get_to_move([container.value for container in stack.containers],value))==min_M_s and not stack.is_full()and not (i,j)==c_b[:2]]\n",
        "        destination_stack=random.choice(destination_stacks)\n",
        "\n",
        "        M_s=list(get_to_move([container.value for container in destination_stack[1].containers],value))\n",
        "        # Check for each container in M_s if they have an ideal stack to move to.\n",
        "        for c in M_s:\n",
        "\n",
        "          H[c_b]+=alpha\n",
        "          ideal_stacks=[stack for stack in IdealStacks(module,c,alpha,destination_stack[0]) if stack[0]!=stack_index]\n",
        "          if not(ideal_stacks):\n",
        "            h[c_b]+= alpha\n",
        "      else:\n",
        "         h[c_b]+=alpha*min([ideal_stack[2] for ideal_stack in ideal_stacks])\n",
        "  EstimateBadHousekeepings()\n",
        "  for pos in H:\n",
        "    if h[pos]:\n",
        "      H[pos]+=h[pos]\n",
        "  return H,h\n"
      ],
      "metadata": {
        "id": "zikqApeKlN0R"
      },
      "execution_count": 10,
      "outputs": []
    },
    {
      "cell_type": "code",
      "source": [
        "HC,h=CalculateHousekeepingCosts(module,0.6)"
      ],
      "metadata": {
        "id": "ThstKlDf_tpi"
      },
      "execution_count": 15,
      "outputs": []
    },
    {
      "cell_type": "code",
      "source": [
        "HC"
      ],
      "metadata": {
        "colab": {
          "base_uri": "https://localhost:8080/"
        },
        "id": "rLdI6wEc0112",
        "outputId": "30e5a034-03e0-4b04-f02d-e2e7391b1e53"
      },
      "execution_count": 17,
      "outputs": [
        {
          "output_type": "execute_result",
          "data": {
            "text/plain": [
              "{(0, 0, 0): 0,\n",
              " (0, 0, 1): 0.8999999999999999,\n",
              " (0, 1, 0): 0,\n",
              " (0, 1, 1): 0,\n",
              " (0, 1, 2): 2.4,\n",
              " (0, 1, 3): 0.6,\n",
              " (0, 2, 0): 0,\n",
              " (0, 3, 0): 0,\n",
              " (0, 3, 1): 4.199999999999999,\n",
              " (0, 3, 2): 3.0,\n",
              " (0, 3, 3): 1.7999999999999998}"
            ]
          },
          "metadata": {},
          "execution_count": 17
        }
      ]
    },
    {
      "cell_type": "markdown",
      "source": [
        "# Look-ahead housekeeping"
      ],
      "metadata": {
        "id": "WoyH3t_r09xe"
      }
    },
    {
      "cell_type": "markdown",
      "source": [
        "In this section, we'll introduce the Look-ahead houseeping algorithm, algorithm 8. First we introduce a helper function that finds the destination stack as described in the algorithm."
      ],
      "metadata": {
        "id": "gwycDKyE1DC5"
      }
    },
    {
      "cell_type": "code",
      "source": [
        "def get_destination_stack(module,container_value,alpha,stack_index,excluded_stacks):\n",
        "\n",
        "  ideal_stacks = IdealStacks(module,container_value,alpha,stack_index)\n",
        "  print(f\"Ideal stacks: {ideal_stacks}\")\n",
        "  if ideal_stacks and not all(pos in excluded_stacks for pos, _,_ in ideal_stacks):\n",
        "    # Pick one with minimum extra blocking costs\n",
        "    min_val = min(x[2] for x in ideal_stacks if x[0] not in excluded_stacks)\n",
        "    min_stacks = [x for x in ideal_stacks if x[2] == min_val]\n",
        "    # From these choose the stack in which the minimal time slot is lowest\n",
        "    min_time_slot = min(min(stack[1]).value if not stack[1].is_empty() else -1 for stack in min_stacks)\n",
        "    potential_stacks = [stack for stack in min_stacks if stack[1].is_empty() or min(stack[1]).value == min_time_slot]\n",
        "    # If there are still multiple, choose one randomly\n",
        "    destination_stack_index=random.choice(potential_stacks)[0]\n",
        "  # Else place in a stack with lowest minimum time slot\n",
        "  else:\n",
        "    possible_stacks= [(i,j) for i,bay in enumerate(module) for j,stack in enumerate(bay) if (i,j) not in excluded_stacks and not(stack.is_full())]\n",
        "    destination_stack_index=min(possible_stacks,key=lambda x: min(module[x[0]][x[1]]).value,default=[])\n",
        "  return destination_stack_index"
      ],
      "metadata": {
        "id": "PgfjmI7rOzEO"
      },
      "execution_count": 22,
      "outputs": []
    },
    {
      "cell_type": "code",
      "source": [
        "def LookAheadHousekeeping(module,alpha):\n",
        "  HC,_=CalculateHousekeepingCosts(module,alpha)\n",
        "  SC,_=CalculateShiftingCosts(module)\n",
        "\n",
        "  # Consider the containers for which the housekeeping costs are cheaper than the shifting costs\n",
        "  housekeepable_containers = [pos for pos in HC if HC[pos] < SC[pos] and HC[pos]>0]\n",
        "  module=module.copy()\n",
        "\n",
        "  blockings=blocking_containers(module,alpha)\n",
        "  moved=False\n",
        "  moves=[]\n",
        "\n",
        "  while housekeepable_containers:\n",
        "\n",
        "    print(f\"housekeepable containers:{housekeepable_containers}\")\n",
        "    # 1. Determine which container to housekeep\n",
        "    # Determine positions for which HC is minimal and HC<SC\n",
        "    min_HC_positions = [pos for pos in housekeepable_containers if HC[pos] == min(HC[p] for p in housekeepable_containers)]\n",
        "    # Determine positions for which the container in the module has maximal time slot, HC is minimal and HC<SC\n",
        "    max_positions = [pos for pos in min_HC_positions if module[pos] == max(module[pos] for pos in min_HC_positions)]\n",
        "    # Pick one randomly if there are still multiple containers possible.\n",
        "    container_pos = random.choice(max_positions)\n",
        "    print(f\"Housekeeping:{container_pos}\")\n",
        "    print(f\"HC:{HC[container_pos]}\")\n",
        "    print(f\"SC:{SC[container_pos]}\")\n",
        "    source_stack=(container_pos[0],container_pos[1])\n",
        "    container_value=module[container_pos].value\n",
        "\n",
        "    # 2. Determine to which stack to move\n",
        "    new_module=module.copy()\n",
        "    new_moves=[]\n",
        "    ideal_stacks = IdealStacks(new_module,container_value,alpha,source_stack)\n",
        "    if ideal_stacks:\n",
        "      # Pick the ones for which the extra shifting costs p are minimal (same container stacks)\n",
        "      min_val = min(stack[2] for stack in ideal_stacks)\n",
        "      min_stacks = [stack for stack in ideal_stacks if stack[2] == min_val]\n",
        "      # From these pick the one with lowest minimum time slot\n",
        "      min_time_slot = min(min(stack[1]).value if not stack[1].is_empty() else -1 for stack in min_stacks)\n",
        "      potential_stacks = [stack for stack in min_stacks if stack[1].is_empty() or min(stack[1]).value == min_time_slot]\n",
        "\n",
        "      # If there are still multiple, choose one randomly\n",
        "      destination_stack_index=random.choice(potential_stacks)[0] # If there are multiple with height being maximum, pick one randomly\n",
        "\n",
        "    else:\n",
        "      # If no ideal stack, choose a destination stack in which we will place the container correctly\n",
        "      min_M_S=min(len(get_to_move([container.value for container in stack.containers],container_value)) for i,bay in enumerate(new_module) for j,stack in enumerate(bay) if not stack.is_full() and not (i,j)==source_stack)\n",
        "      smallest_stacks=[((i,j),stack) for i,bay in enumerate(new_module) for j,stack in enumerate(bay) if len(get_to_move([container.value for container in stack.containers],container_value))==min_M_S and not stack.is_full()and not (i,j)==source_stack]\n",
        "      if smallest_stacks==[]:\n",
        "        housekeepable_containers.remove(container_pos)\n",
        "        continue\n",
        "      else:\n",
        "        destination_stack=random.choice(smallest_stacks)\n",
        "        destination_stack_index=destination_stack[0]\n",
        "\n",
        "    # 3. Move containers on top and in destination stack\n",
        "\n",
        "    on_top=new_module[container_pos[0]][container_pos[1]][container_pos[2]+1:]\n",
        "    destination_stack_to_move=list(get_to_move(new_module[destination_stack_index[0]][destination_stack_index[1]][:],container_value))\n",
        "\n",
        "    while on_top or destination_stack_to_move:\n",
        "      # If on_top is empty, give it value -1\n",
        "      if len(on_top)==0:\n",
        "        top_on_top=-1\n",
        "      else:\n",
        "        top_on_top=on_top[-1]\n",
        "\n",
        "      # Same for destination_stack\n",
        "      if len(destination_stack_to_move)==0:\n",
        "        top_destination_stack_to_move=-1\n",
        "      else:\n",
        "        top_destination_stack_to_move=destination_stack_to_move[-1]\n",
        "\n",
        "      # Pick the one with highest value to move first\n",
        "      if top_on_top>=top_destination_stack_to_move:\n",
        "        container_value=on_top.pop(-1)\n",
        "        stack_index=source_stack\n",
        "      else:\n",
        "        container_value=destination_stack_to_move.pop(-1)\n",
        "        stack_index=destination_stack_index\n",
        "      # Get best stack to move this container to\n",
        "      destination_stack=get_destination_stack(new_module,container_value,alpha,stack_index,excluded_stacks=[source_stack,destination_stack_index])\n",
        "      print(f\"Moving {stack_index} to {destination_stack}\")\n",
        "      new_module.move(stack_index,destination_stack)\n",
        "      new_moves.append((stack_index,destination_stack))\n",
        "      print(new_module)\n",
        "\n",
        "\n",
        "    # 4. Move\n",
        "    new_module.move(source_stack,destination_stack_index)\n",
        "    new_moves.append((source_stack,destination_stack_index))\n",
        "    print(f\"Moving {source_stack} to {destination_stack_index}\")\n",
        "    print(new_module)\n",
        "\n",
        "    # 5. Recalculate HC and SC:\n",
        "    SC_new,_=CalculateShiftingCosts(new_module)\n",
        "\n",
        "    # Calculate improvement\n",
        "    improvement=sum(SC.values())-sum(SC_new.values())-len(new_moves)*alpha\n",
        "    print(f\"before: {sum(SC.values())}\")\n",
        "    print(f\"after: {sum(SC_new.values())}\")\n",
        "\n",
        "    # If improvement, perform moves\n",
        "    if improvement>0:\n",
        "      print(f\"Improvement: {improvement}\")\n",
        "      module=new_module\n",
        "      moves.extend(new_moves)\n",
        "      SC=SC_new\n",
        "      HC,_=CalculateHousekeepingCosts(module,alpha)\n",
        "      housekeepable_containers = [pos for pos in HC if HC[pos] < SC[pos] and HC[pos]>0]\n",
        "    # If not, go to next container\n",
        "    else:\n",
        "      print(f\"No improvement{improvement}\")\n",
        "      housekeepable_containers.remove(container_pos)\n",
        "      continue\n",
        "  return module,moves\n",
        "\n",
        "\n"
      ],
      "metadata": {
        "id": "ZCPn7w795dNm"
      },
      "execution_count": 28,
      "outputs": []
    },
    {
      "cell_type": "code",
      "source": [
        "print(module)"
      ],
      "metadata": {
        "colab": {
          "base_uri": "https://localhost:8080/"
        },
        "id": "6Jkdw2--uqnu",
        "outputId": "d9c2b16a-71df-4307-906a-ae5ade552540"
      },
      "execution_count": 20,
      "outputs": [
        {
          "output_type": "stream",
          "name": "stdout",
          "text": [
            "Bay 0:\n",
            "  | 1 |   | 5\n",
            "  | 4 |   | 4\n",
            "2 | 3 |   | 4\n",
            "1 | 3 | 2 | 1\n"
          ]
        }
      ]
    },
    {
      "cell_type": "code",
      "source": [
        "new_module,moves=LookAheadHousekeeping(module,0.6)"
      ],
      "metadata": {
        "colab": {
          "base_uri": "https://localhost:8080/"
        },
        "id": "bZfMV4PX8Dqo",
        "outputId": "3a075a11-e4a8-46aa-83c3-82309ce726be"
      },
      "execution_count": 29,
      "outputs": [
        {
          "output_type": "stream",
          "name": "stdout",
          "text": [
            "housekeepable containers:[(0, 0, 1)]\n",
            "Housekeeping:(0, 0, 1)\n",
            "HC:0.8999999999999999\n",
            "SC:1.25\n",
            "Moving (0, 0) to (0, 2)\n",
            "Bay 0:\n",
            "  | 1 |   | 5\n",
            "  | 4 |   | 4\n",
            "  | 3 | 2 | 4\n",
            "1 | 3 | 2 | 1\n",
            "before: 7.25\n",
            "after: 6.5\n",
            "Improvement: 0.15000000000000002\n",
            "housekeepable containers:[(0, 3, 3)]\n",
            "Housekeeping:(0, 3, 3)\n",
            "HC:1.2\n",
            "SC:1.5\n",
            "Ideal stacks: [((0, 2), Stack([Container(2, '', False), Container(2, '', False)]), 0.0)]\n",
            "Moving (0, 0) to (0, 2)\n",
            "Bay 0:\n",
            "  | 1 |   | 5\n",
            "  | 4 | 1 | 4\n",
            "  | 3 | 2 | 4\n",
            "  | 3 | 2 | 1\n",
            "Moving (0, 3) to (0, 0)\n",
            "Bay 0:\n",
            "  | 1 |   |  \n",
            "  | 4 | 1 | 4\n",
            "  | 3 | 2 | 4\n",
            "5 | 3 | 2 | 1\n",
            "before: 6.5\n",
            "after: 4.0\n",
            "Improvement: 1.3\n",
            "housekeepable containers:[(0, 3, 2)]\n",
            "Housekeeping:(0, 3, 2)\n",
            "HC:0.6\n",
            "SC:1\n",
            "Moving (0, 3) to (0, 0)\n",
            "Bay 0:\n",
            "  | 1 |   |  \n",
            "  | 4 | 1 |  \n",
            "4 | 3 | 2 | 4\n",
            "5 | 3 | 2 | 1\n",
            "before: 4.0\n",
            "after: 3.3333333333333335\n",
            "Improvement: 0.06666666666666654\n",
            "housekeepable containers:[(0, 3, 1)]\n",
            "Housekeeping:(0, 3, 1)\n",
            "HC:0.8999999999999999\n",
            "SC:1.3333333333333335\n",
            "Moving (0, 3) to (0, 0)\n",
            "Bay 0:\n",
            "  | 1 |   |  \n",
            "4 | 4 | 1 |  \n",
            "4 | 3 | 2 |  \n",
            "5 | 3 | 2 | 1\n",
            "before: 3.3333333333333335\n",
            "after: 2.5\n",
            "Improvement: 0.2333333333333335\n"
          ]
        }
      ]
    }
  ],
  "metadata": {
    "colab": {
      "toc_visible": true,
      "provenance": [],
      "authorship_tag": "ABX9TyMyVLwXkZHnKdGs9k8pnElo",
      "include_colab_link": true
    },
    "kernelspec": {
      "display_name": "Python 3",
      "name": "python3"
    },
    "language_info": {
      "name": "python"
    }
  },
  "nbformat": 4,
  "nbformat_minor": 0
}