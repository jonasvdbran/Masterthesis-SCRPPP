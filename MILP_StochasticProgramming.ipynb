{
  "cells": [
    {
      "cell_type": "markdown",
      "metadata": {
        "id": "view-in-github",
        "colab_type": "text"
      },
      "source": [
        "<a href=\"https://colab.research.google.com/github/jonasvdbran/Masterthesis-SCRPPP/blob/main/MILP_StochasticProgramming.ipynb\" target=\"_parent\"><img src=\"https://colab.research.google.com/assets/colab-badge.svg\" alt=\"Open In Colab\"/></a>"
      ]
    },
    {
      "cell_type": "markdown",
      "source": [
        "We again import the container_classes file. **Upload container_classes.py via the next block of code.** **bold text**"
      ],
      "metadata": {
        "id": "9zejgCQmDVAL"
      }
    },
    {
      "cell_type": "code",
      "source": [
        "from google.colab import files\n",
        "uploaded = files.upload()"
      ],
      "metadata": {
        "colab": {
          "base_uri": "https://localhost:8080/",
          "height": 334
        },
        "id": "Xp4R5kawDSI9",
        "outputId": "523ce7ea-e7ec-455a-b4a1-6cbc4a5d0984"
      },
      "execution_count": 28,
      "outputs": [
        {
          "output_type": "display_data",
          "data": {
            "text/plain": [
              "<IPython.core.display.HTML object>"
            ],
            "text/html": [
              "\n",
              "     <input type=\"file\" id=\"files-26f0b921-7919-4f3a-9ca1-4a21aeb50c5d\" name=\"files[]\" multiple disabled\n",
              "        style=\"border:none\" />\n",
              "     <output id=\"result-26f0b921-7919-4f3a-9ca1-4a21aeb50c5d\">\n",
              "      Upload widget is only available when the cell has been executed in the\n",
              "      current browser session. Please rerun this cell to enable.\n",
              "      </output>\n",
              "      <script>// Copyright 2017 Google LLC\n",
              "//\n",
              "// Licensed under the Apache License, Version 2.0 (the \"License\");\n",
              "// you may not use this file except in compliance with the License.\n",
              "// You may obtain a copy of the License at\n",
              "//\n",
              "//      http://www.apache.org/licenses/LICENSE-2.0\n",
              "//\n",
              "// Unless required by applicable law or agreed to in writing, software\n",
              "// distributed under the License is distributed on an \"AS IS\" BASIS,\n",
              "// WITHOUT WARRANTIES OR CONDITIONS OF ANY KIND, either express or implied.\n",
              "// See the License for the specific language governing permissions and\n",
              "// limitations under the License.\n",
              "\n",
              "/**\n",
              " * @fileoverview Helpers for google.colab Python module.\n",
              " */\n",
              "(function(scope) {\n",
              "function span(text, styleAttributes = {}) {\n",
              "  const element = document.createElement('span');\n",
              "  element.textContent = text;\n",
              "  for (const key of Object.keys(styleAttributes)) {\n",
              "    element.style[key] = styleAttributes[key];\n",
              "  }\n",
              "  return element;\n",
              "}\n",
              "\n",
              "// Max number of bytes which will be uploaded at a time.\n",
              "const MAX_PAYLOAD_SIZE = 100 * 1024;\n",
              "\n",
              "function _uploadFiles(inputId, outputId) {\n",
              "  const steps = uploadFilesStep(inputId, outputId);\n",
              "  const outputElement = document.getElementById(outputId);\n",
              "  // Cache steps on the outputElement to make it available for the next call\n",
              "  // to uploadFilesContinue from Python.\n",
              "  outputElement.steps = steps;\n",
              "\n",
              "  return _uploadFilesContinue(outputId);\n",
              "}\n",
              "\n",
              "// This is roughly an async generator (not supported in the browser yet),\n",
              "// where there are multiple asynchronous steps and the Python side is going\n",
              "// to poll for completion of each step.\n",
              "// This uses a Promise to block the python side on completion of each step,\n",
              "// then passes the result of the previous step as the input to the next step.\n",
              "function _uploadFilesContinue(outputId) {\n",
              "  const outputElement = document.getElementById(outputId);\n",
              "  const steps = outputElement.steps;\n",
              "\n",
              "  const next = steps.next(outputElement.lastPromiseValue);\n",
              "  return Promise.resolve(next.value.promise).then((value) => {\n",
              "    // Cache the last promise value to make it available to the next\n",
              "    // step of the generator.\n",
              "    outputElement.lastPromiseValue = value;\n",
              "    return next.value.response;\n",
              "  });\n",
              "}\n",
              "\n",
              "/**\n",
              " * Generator function which is called between each async step of the upload\n",
              " * process.\n",
              " * @param {string} inputId Element ID of the input file picker element.\n",
              " * @param {string} outputId Element ID of the output display.\n",
              " * @return {!Iterable<!Object>} Iterable of next steps.\n",
              " */\n",
              "function* uploadFilesStep(inputId, outputId) {\n",
              "  const inputElement = document.getElementById(inputId);\n",
              "  inputElement.disabled = false;\n",
              "\n",
              "  const outputElement = document.getElementById(outputId);\n",
              "  outputElement.innerHTML = '';\n",
              "\n",
              "  const pickedPromise = new Promise((resolve) => {\n",
              "    inputElement.addEventListener('change', (e) => {\n",
              "      resolve(e.target.files);\n",
              "    });\n",
              "  });\n",
              "\n",
              "  const cancel = document.createElement('button');\n",
              "  inputElement.parentElement.appendChild(cancel);\n",
              "  cancel.textContent = 'Cancel upload';\n",
              "  const cancelPromise = new Promise((resolve) => {\n",
              "    cancel.onclick = () => {\n",
              "      resolve(null);\n",
              "    };\n",
              "  });\n",
              "\n",
              "  // Wait for the user to pick the files.\n",
              "  const files = yield {\n",
              "    promise: Promise.race([pickedPromise, cancelPromise]),\n",
              "    response: {\n",
              "      action: 'starting',\n",
              "    }\n",
              "  };\n",
              "\n",
              "  cancel.remove();\n",
              "\n",
              "  // Disable the input element since further picks are not allowed.\n",
              "  inputElement.disabled = true;\n",
              "\n",
              "  if (!files) {\n",
              "    return {\n",
              "      response: {\n",
              "        action: 'complete',\n",
              "      }\n",
              "    };\n",
              "  }\n",
              "\n",
              "  for (const file of files) {\n",
              "    const li = document.createElement('li');\n",
              "    li.append(span(file.name, {fontWeight: 'bold'}));\n",
              "    li.append(span(\n",
              "        `(${file.type || 'n/a'}) - ${file.size} bytes, ` +\n",
              "        `last modified: ${\n",
              "            file.lastModifiedDate ? file.lastModifiedDate.toLocaleDateString() :\n",
              "                                    'n/a'} - `));\n",
              "    const percent = span('0% done');\n",
              "    li.appendChild(percent);\n",
              "\n",
              "    outputElement.appendChild(li);\n",
              "\n",
              "    const fileDataPromise = new Promise((resolve) => {\n",
              "      const reader = new FileReader();\n",
              "      reader.onload = (e) => {\n",
              "        resolve(e.target.result);\n",
              "      };\n",
              "      reader.readAsArrayBuffer(file);\n",
              "    });\n",
              "    // Wait for the data to be ready.\n",
              "    let fileData = yield {\n",
              "      promise: fileDataPromise,\n",
              "      response: {\n",
              "        action: 'continue',\n",
              "      }\n",
              "    };\n",
              "\n",
              "    // Use a chunked sending to avoid message size limits. See b/62115660.\n",
              "    let position = 0;\n",
              "    do {\n",
              "      const length = Math.min(fileData.byteLength - position, MAX_PAYLOAD_SIZE);\n",
              "      const chunk = new Uint8Array(fileData, position, length);\n",
              "      position += length;\n",
              "\n",
              "      const base64 = btoa(String.fromCharCode.apply(null, chunk));\n",
              "      yield {\n",
              "        response: {\n",
              "          action: 'append',\n",
              "          file: file.name,\n",
              "          data: base64,\n",
              "        },\n",
              "      };\n",
              "\n",
              "      let percentDone = fileData.byteLength === 0 ?\n",
              "          100 :\n",
              "          Math.round((position / fileData.byteLength) * 100);\n",
              "      percent.textContent = `${percentDone}% done`;\n",
              "\n",
              "    } while (position < fileData.byteLength);\n",
              "  }\n",
              "\n",
              "  // All done.\n",
              "  yield {\n",
              "    response: {\n",
              "      action: 'complete',\n",
              "    }\n",
              "  };\n",
              "}\n",
              "\n",
              "scope.google = scope.google || {};\n",
              "scope.google.colab = scope.google.colab || {};\n",
              "scope.google.colab._files = {\n",
              "  _uploadFiles,\n",
              "  _uploadFilesContinue,\n",
              "};\n",
              "})(self);\n",
              "</script> "
            ]
          },
          "metadata": {}
        },
        {
          "output_type": "error",
          "ename": "KeyboardInterrupt",
          "evalue": "",
          "traceback": [
            "\u001b[0;31m---------------------------------------------------------------------------\u001b[0m",
            "\u001b[0;31mKeyboardInterrupt\u001b[0m                         Traceback (most recent call last)",
            "\u001b[0;32m<ipython-input-28-21dc3c638f66>\u001b[0m in \u001b[0;36m<cell line: 0>\u001b[0;34m()\u001b[0m\n\u001b[1;32m      1\u001b[0m \u001b[0;32mfrom\u001b[0m \u001b[0mgoogle\u001b[0m\u001b[0;34m.\u001b[0m\u001b[0mcolab\u001b[0m \u001b[0;32mimport\u001b[0m \u001b[0mfiles\u001b[0m\u001b[0;34m\u001b[0m\u001b[0;34m\u001b[0m\u001b[0m\n\u001b[0;32m----> 2\u001b[0;31m \u001b[0muploaded\u001b[0m \u001b[0;34m=\u001b[0m \u001b[0mfiles\u001b[0m\u001b[0;34m.\u001b[0m\u001b[0mupload\u001b[0m\u001b[0;34m(\u001b[0m\u001b[0;34m)\u001b[0m\u001b[0;34m\u001b[0m\u001b[0;34m\u001b[0m\u001b[0m\n\u001b[0m",
            "\u001b[0;32m/usr/local/lib/python3.11/dist-packages/google/colab/files.py\u001b[0m in \u001b[0;36mupload\u001b[0;34m(target_dir)\u001b[0m\n\u001b[1;32m     70\u001b[0m   \"\"\"\n\u001b[1;32m     71\u001b[0m \u001b[0;34m\u001b[0m\u001b[0m\n\u001b[0;32m---> 72\u001b[0;31m   \u001b[0muploaded_files\u001b[0m \u001b[0;34m=\u001b[0m \u001b[0m_upload_files\u001b[0m\u001b[0;34m(\u001b[0m\u001b[0mmultiple\u001b[0m\u001b[0;34m=\u001b[0m\u001b[0;32mTrue\u001b[0m\u001b[0;34m)\u001b[0m\u001b[0;34m\u001b[0m\u001b[0;34m\u001b[0m\u001b[0m\n\u001b[0m\u001b[1;32m     73\u001b[0m   \u001b[0;31m# Mapping from original filename to filename as saved locally.\u001b[0m\u001b[0;34m\u001b[0m\u001b[0;34m\u001b[0m\u001b[0m\n\u001b[1;32m     74\u001b[0m   \u001b[0mlocal_filenames\u001b[0m \u001b[0;34m=\u001b[0m \u001b[0mdict\u001b[0m\u001b[0;34m(\u001b[0m\u001b[0;34m)\u001b[0m\u001b[0;34m\u001b[0m\u001b[0;34m\u001b[0m\u001b[0m\n",
            "\u001b[0;32m/usr/local/lib/python3.11/dist-packages/google/colab/files.py\u001b[0m in \u001b[0;36m_upload_files\u001b[0;34m(multiple)\u001b[0m\n\u001b[1;32m    162\u001b[0m \u001b[0;34m\u001b[0m\u001b[0m\n\u001b[1;32m    163\u001b[0m   \u001b[0;31m# First result is always an indication that the file picker has completed.\u001b[0m\u001b[0;34m\u001b[0m\u001b[0;34m\u001b[0m\u001b[0m\n\u001b[0;32m--> 164\u001b[0;31m   result = _output.eval_js(\n\u001b[0m\u001b[1;32m    165\u001b[0m       'google.colab._files._uploadFiles(\"{input_id}\", \"{output_id}\")'.format(\n\u001b[1;32m    166\u001b[0m           \u001b[0minput_id\u001b[0m\u001b[0;34m=\u001b[0m\u001b[0minput_id\u001b[0m\u001b[0;34m,\u001b[0m \u001b[0moutput_id\u001b[0m\u001b[0;34m=\u001b[0m\u001b[0moutput_id\u001b[0m\u001b[0;34m\u001b[0m\u001b[0;34m\u001b[0m\u001b[0m\n",
            "\u001b[0;32m/usr/local/lib/python3.11/dist-packages/google/colab/output/_js.py\u001b[0m in \u001b[0;36meval_js\u001b[0;34m(script, ignore_result, timeout_sec)\u001b[0m\n\u001b[1;32m     38\u001b[0m   \u001b[0;32mif\u001b[0m \u001b[0mignore_result\u001b[0m\u001b[0;34m:\u001b[0m\u001b[0;34m\u001b[0m\u001b[0;34m\u001b[0m\u001b[0m\n\u001b[1;32m     39\u001b[0m     \u001b[0;32mreturn\u001b[0m\u001b[0;34m\u001b[0m\u001b[0;34m\u001b[0m\u001b[0m\n\u001b[0;32m---> 40\u001b[0;31m   \u001b[0;32mreturn\u001b[0m \u001b[0m_message\u001b[0m\u001b[0;34m.\u001b[0m\u001b[0mread_reply_from_input\u001b[0m\u001b[0;34m(\u001b[0m\u001b[0mrequest_id\u001b[0m\u001b[0;34m,\u001b[0m \u001b[0mtimeout_sec\u001b[0m\u001b[0;34m)\u001b[0m\u001b[0;34m\u001b[0m\u001b[0;34m\u001b[0m\u001b[0m\n\u001b[0m\u001b[1;32m     41\u001b[0m \u001b[0;34m\u001b[0m\u001b[0m\n\u001b[1;32m     42\u001b[0m \u001b[0;34m\u001b[0m\u001b[0m\n",
            "\u001b[0;32m/usr/local/lib/python3.11/dist-packages/google/colab/_message.py\u001b[0m in \u001b[0;36mread_reply_from_input\u001b[0;34m(message_id, timeout_sec)\u001b[0m\n\u001b[1;32m     94\u001b[0m     \u001b[0mreply\u001b[0m \u001b[0;34m=\u001b[0m \u001b[0m_read_next_input_message\u001b[0m\u001b[0;34m(\u001b[0m\u001b[0;34m)\u001b[0m\u001b[0;34m\u001b[0m\u001b[0;34m\u001b[0m\u001b[0m\n\u001b[1;32m     95\u001b[0m     \u001b[0;32mif\u001b[0m \u001b[0mreply\u001b[0m \u001b[0;34m==\u001b[0m \u001b[0m_NOT_READY\u001b[0m \u001b[0;32mor\u001b[0m \u001b[0;32mnot\u001b[0m \u001b[0misinstance\u001b[0m\u001b[0;34m(\u001b[0m\u001b[0mreply\u001b[0m\u001b[0;34m,\u001b[0m \u001b[0mdict\u001b[0m\u001b[0;34m)\u001b[0m\u001b[0;34m:\u001b[0m\u001b[0;34m\u001b[0m\u001b[0;34m\u001b[0m\u001b[0m\n\u001b[0;32m---> 96\u001b[0;31m       \u001b[0mtime\u001b[0m\u001b[0;34m.\u001b[0m\u001b[0msleep\u001b[0m\u001b[0;34m(\u001b[0m\u001b[0;36m0.025\u001b[0m\u001b[0;34m)\u001b[0m\u001b[0;34m\u001b[0m\u001b[0;34m\u001b[0m\u001b[0m\n\u001b[0m\u001b[1;32m     97\u001b[0m       \u001b[0;32mcontinue\u001b[0m\u001b[0;34m\u001b[0m\u001b[0;34m\u001b[0m\u001b[0m\n\u001b[1;32m     98\u001b[0m     if (\n",
            "\u001b[0;31mKeyboardInterrupt\u001b[0m: "
          ]
        }
      ]
    },
    {
      "cell_type": "code",
      "source": [
        "from container_classes import *"
      ],
      "metadata": {
        "id": "OczZPuBpDbGW"
      },
      "execution_count": null,
      "outputs": []
    },
    {
      "cell_type": "markdown",
      "source": [
        "We again consider the same example bay to test our algorithms on."
      ],
      "metadata": {
        "id": "dzhk7eevDfk-"
      }
    },
    {
      "cell_type": "code",
      "source": [
        "(B_max,S_max,L_max)=(1,4,4)\n",
        "T_max=5"
      ],
      "metadata": {
        "id": "51acrGOjI5Y4"
      },
      "execution_count": null,
      "outputs": []
    },
    {
      "cell_type": "code",
      "source": [
        "module=Module([Bay([Stack([Container(1),Container(2)],4),\n",
        "                    Stack([Container(3),Container(3),Container(4),Container(1)],4),Stack([Container(2)],4),Stack([Container(1),Container(4),Container(4),Container(5)],4)],4)],4)\n",
        "print(module)"
      ],
      "metadata": {
        "id": "Z6k3ftGxDdfM"
      },
      "execution_count": null,
      "outputs": []
    },
    {
      "cell_type": "markdown",
      "metadata": {
        "id": "kmOnBM7HNirx"
      },
      "source": [
        "# MILP\n"
      ]
    },
    {
      "cell_type": "code",
      "execution_count": null,
      "metadata": {
        "id": "z_BTfc9ay4RE"
      },
      "outputs": [],
      "source": [
        "!apt-get install -y glpk-utils coinor-cbc\n"
      ]
    },
    {
      "cell_type": "code",
      "execution_count": null,
      "metadata": {
        "id": "nFHYOM1ay9lA"
      },
      "outputs": [],
      "source": [
        "from pyomo.environ import SolverFactory\n",
        "\n",
        "solver = SolverFactory(\"cbc\", executable=\"/usr/bin/cbc\")  # Explicitly specify CBC path\n",
        "if solver.available():\n",
        "    print(\"CBC solver is available!\")\n",
        "else:\n",
        "    print(\"CBC solver is NOT available.\")\n"
      ]
    },
    {
      "cell_type": "code",
      "source": [
        "from pyomo.environ import *"
      ],
      "metadata": {
        "id": "t_M5xVJup7-l"
      },
      "execution_count": null,
      "outputs": []
    },
    {
      "cell_type": "code",
      "execution_count": null,
      "metadata": {
        "id": "iJEWWw82FtO0"
      },
      "outputs": [],
      "source": [
        "def get_initial_positions(container_bay):\n",
        "  #Convert the module into the LP format: initial_x[(t, (b, s, l))] = 1\n",
        "  #Used to initialize LP problem\n",
        "  initial_x = {}\n",
        "  container_timeslots={}\n",
        "  ID=0\n",
        "  for b_idx, bay in enumerate(container_bay):\n",
        "    for s_idx, stack in enumerate(bay):\n",
        "      for l_idx, container in enumerate(stack):\n",
        "          initial_x[(ID, (0,s_idx, l_idx))] = 1 # Stores container initial position\n",
        "          container_timeslots[ID]=container.value # Maps container to its time slot\n",
        "          ID+=1\n",
        "\n",
        "  return initial_x, container_timeslots"
      ]
    },
    {
      "cell_type": "code",
      "source": [
        "initial_x,container_timeslots=get_initial_positions(module)\n",
        "print(initial_x)\n",
        "print(container_timeslots)"
      ],
      "metadata": {
        "id": "RgEx0eTFIebk"
      },
      "execution_count": null,
      "outputs": []
    },
    {
      "cell_type": "code",
      "source": [
        "# Parameters\n",
        "U_max = 7\n",
        "alpha = 0.5\n",
        "\n",
        "B= range(B_max) #Bays\n",
        "S = range(S_max)  # Stacks\n",
        "L = range(L_max)  # Levels\n",
        "T = range(1, T_max + 1)  # Timestamps\n",
        "U = range(U_max)  # States\n",
        "C=range(len(initial_x))\n",
        "\n",
        "# Define model\n",
        "model = ConcreteModel()\n",
        "\n",
        "# Decision Variables\n",
        "model.x = Var(C,B,S,L,U, within=Binary)\n",
        "model.w = Var(C,B,S,L,U[:-1], within=Binary) # Outgoing containers (moved from stack s)\n",
        "model.z = Var(C,B,S,L,U[:-1], within=Binary) # Incoming containers (moved to stack s)\n",
        "\n",
        "# Second stage variables\n",
        "model.c = Var(B,S,L,within=NonNegativeReals)\n",
        "\n",
        "# Objective function:\n",
        "model.obj = Objective(expr=alpha*sum(model.w[c,b,s,l,tau] for c in C for b in B for s in S for l in L for tau in U[:-1])\n",
        "    + sum(model.c[b,s,l] for b in B for s in S for l in L),sense=minimize)\n",
        "\n",
        "\n",
        "# Constraint 0: Initial container positions\n",
        "def initial_positions(model,c,b,s,l):\n",
        "    return model.x[c,b,s,l,0] == initial_x.get((c, (b,s,l)), 0)\n",
        "\n",
        "model.initial_positions_constraint = Constraint(C,B,S,L, rule=initial_positions)\n",
        "\n",
        "# Contstraint 1: Number of incoming containers = number of outgoing containers\n",
        "def balance_constraint(model,c,tau):\n",
        "    return sum(model.w[c,b,s,l,tau] for b in B for s in S for l in L) == sum(model.z[c,b,s,l,tau] for b in B for s in S for l in L)\n",
        "\n",
        "model.balance_constraint = Constraint(C,U[:-1],rule=balance_constraint)\n",
        "\n",
        "# Constraint 2: At most 1 move of each kind per time unit\n",
        "def at_most_one_w_move(model,tau):\n",
        "    return sum(model.w[c,b,s,l,tau] for c in C for b in B for s in S for l in L) <= 1\n",
        "def at_most_one_z_move(model,tau):\n",
        "    return sum(model.z[c,b,s,l,tau] for c in C for b in B for s in S for l in L) <= 1\n",
        "\n",
        "model.at_most_one_w_move_constraint = Constraint(U[:-1],rule=at_most_one_w_move)\n",
        "model.at_most_one_z_move_constraint = Constraint(U[:-1],rule=at_most_one_z_move)\n",
        "\n",
        "# Constraint: Moves are performed as early as possible.\n",
        "#for tau in U[:-2]:\n",
        "    #model.constraints.add(sum(model.w[t, s, l, tau+1] for s in S for l in L for t in T) <= sum(model.w[t, s, l, tau] for s in S for l in L for t in T))\n",
        "\n",
        "# Constraint 3: At most one container per position + if there is a container, no container can come in.\n",
        "\n",
        "def at_most_one_container_per_position(model,b,s,tau):\n",
        "    if tau<U[-1]:\n",
        "        return sum(model.x[c,b,s,0,tau] for c in C) + sum(model.z[c,b,s,0,tau] for c in C) <= 1\n",
        "    else:\n",
        "        return sum(model.x[c,b,s,0,tau] for c in C) <= 1\n",
        "\n",
        "model.at_most_one_container_per_position_constraint = Constraint(B,S,U[1:],rule=at_most_one_container_per_position)\n",
        "\n",
        "# Constraint 4: Controls topmost containers: if there is an outgoing move, the container isn't there in the next time unit.\n",
        "# if there is an incoming move, container is there in the next time unit\n",
        "\n",
        "def control_topmost_containers(model,c,b,s,l,tau):\n",
        "  return model.x[c,b,s,l,tau] + model.z[c,b,s,l,tau] == model.x[c,b,s,l,tau+1] + model.w[c,b,s,l,tau]\n",
        "\n",
        "model.control_topmost_containers_constraint = Constraint(C,B,S,L,U[:-1],rule=control_topmost_containers)\n",
        "\n",
        "# Constraint 5: Can't move if there is a container above + no floating containers\n",
        "\n",
        "def no_floating_containers(model,b,s,l,tau):\n",
        "  return sum(model.x[c,b,s,l+1,tau] for c in C) + sum(model.w[c,b,s,l,tau] for c in C) + sum(model.z[c,b,s,l+1,tau] for c in C) <= sum(model.x[c,b,s,l,tau] for c in C)\n",
        "\n",
        "model.no_floating_containers_constraint = Constraint(B,S,L[:-1],U[:-1],rule=no_floating_containers)\n",
        "\n",
        "# Second stage costs -> shifting costs:\n",
        "\n",
        "# Constraint 6: Counts the number of misplaced containers\n",
        "def blocking_containers(model, b, s, l, l_prime,t):\n",
        "    if l_prime >= l:\n",
        "        return Constraint.Skip\n",
        "    return model.c[b,s,l] >= 1.2*sum(model.x[c,b, s, l,U_max-1] - model.x[c,b, s, l_prime,U_max-1]\n",
        "                for c in C if container_timeslots[c]>=t)\n",
        "\n",
        "model.blocking_containers_constraint = Constraint(B, S, L[1:], L,T, rule=blocking_containers)\n",
        "\n",
        "# Constraint 7: Adds a cost of 0.5 if there is a container underneath with same time slot\n",
        "def same_time_slot(model, b, s, l, l_prime,t):\n",
        "    if l_prime >= l:\n",
        "        return Constraint.Skip\n",
        "    else:\n",
        "        return model.c[b,s,l] >= 0.5*(sum(model.x[c,b, s, l,U_max-1] for c in C if container_timeslots[c]==t)-\n",
        "                               sum(model.x[c,b, s, l_prime,U_max-1] for c in C if container_timeslots[c]<t)-\n",
        "                               sum(model.x[c,b, s, l_prime,U_max-1] for c in C if container_timeslots[c]>t))\n",
        "model.cost_shift_constraint = Constraint(B, S, L[1:], L,T, rule=same_time_slot)"
      ],
      "metadata": {
        "id": "ZI2S1kRhgUOh"
      },
      "execution_count": null,
      "outputs": []
    },
    {
      "cell_type": "code",
      "source": [
        "# Solve the model\n",
        "solver = SolverFactory(\"cbc\", executable=\"/usr/bin/cbc\")\n",
        "solver.solve(model)"
      ],
      "metadata": {
        "id": "zRJe9ZUVrcVd"
      },
      "execution_count": null,
      "outputs": []
    },
    {
      "cell_type": "code",
      "source": [
        "print(module)"
      ],
      "metadata": {
        "id": "iakYob0PuTcI"
      },
      "execution_count": null,
      "outputs": []
    },
    {
      "cell_type": "markdown",
      "source": [
        "We apply the moves given by the solution of the MILP via the variables w and z.\n",
        "\n"
      ],
      "metadata": {
        "id": "DxNj9itNWxEq"
      }
    },
    {
      "cell_type": "code",
      "source": [
        "def apply_moves(container_bay):\n",
        "  new_bay=[]\n",
        "  for timestep in U[:-1]:\n",
        "    from_stack = next(((b,s) for (c,b, s, l, tau), var in model.w.items() if tau == timestep and var.value == 1),None)\n",
        "    destination_stack=next(((b,s) for (c, b,s, l, tau), var in model.z.items() if tau == timestep and var.value == 1), None)\n",
        "    print(f\"tau: {timestep} -> from {from_stack} to {destination_stack}\")\n",
        "\n",
        "    if from_stack is not None and destination_stack is not None:\n",
        "      if not new_bay:\n",
        "        new_bay=container_bay.move(from_stack,destination_stack,in_place=False)\n",
        "      else:\n",
        "        new_bay=new_bay.move(from_stack,destination_stack,in_place=False)\n",
        "\n",
        "    if from_stack is None and destination_stack is not None:\n",
        "      raise ValueError(\"No container to move\")\n",
        "\n",
        "    if from_stack is not None and destination_stack is None:\n",
        "      raise ValueError(\"No destination stack\")\n",
        "\n",
        "    if from_stack is None and destination_stack is None:\n",
        "      continue\n",
        "  return new_bay if new_bay else container_bay"
      ],
      "metadata": {
        "id": "n1OhQVCSr3Pq"
      },
      "execution_count": null,
      "outputs": []
    },
    {
      "cell_type": "code",
      "source": [
        "new_module=apply_moves(module)\n",
        "print(new_module)"
      ],
      "metadata": {
        "id": "vzdJ_eBDr6Ct"
      },
      "execution_count": null,
      "outputs": []
    },
    {
      "cell_type": "markdown",
      "source": [
        "We can check if the final positions resulting from the variables w and z are indeed the same as the x indices at the final state."
      ],
      "metadata": {
        "id": "gmAqH5pIW_Mo"
      }
    },
    {
      "cell_type": "code",
      "source": [
        "x_one_indices = [idx for idx in model.x if value(model.x[idx]) ==1 and idx[4]==U_max-1]\n",
        "\n",
        "print(\"x variables at final state equal to 1:\")\n",
        "for idx in x_one_indices:\n",
        "    print(f\"x{idx}\")"
      ],
      "metadata": {
        "id": "grXLTV7JwPK9"
      },
      "execution_count": null,
      "outputs": []
    },
    {
      "cell_type": "markdown",
      "metadata": {
        "id": "lGW6QmsoeG73"
      },
      "source": [
        "# Two-stage stochastic program"
      ]
    },
    {
      "cell_type": "code",
      "execution_count": null,
      "metadata": {
        "id": "hSlbXEyXjeIo"
      },
      "outputs": [],
      "source": [
        "# Define scenarios (Ω) with probability p_omega\n",
        "max_delay=3\n",
        "max_scenarios=50\n",
        "possible_delays=[i for i in range(max_delay+1)]\n",
        "prob_delays=[0.1/delay for delay in possible_delays if not delay==0]\n",
        "prob_no_delay=1-sum(prob_delays)\n",
        "\n",
        "Omega = range(max_scenarios)\n",
        "# Every scenario corresponds to a row. Number i in the row represents the delay given to container 1.\n",
        "delays = np.random.choice(possible_delays, size=(len(Omega), len(C)), p=[prob_no_delay]+prob_delays)"
      ]
    },
    {
      "cell_type": "code",
      "execution_count": null,
      "metadata": {
        "id": "IdApjcFbK-Ke"
      },
      "outputs": [],
      "source": [
        "delays"
      ]
    },
    {
      "cell_type": "code",
      "source": [
        "def get_scenario_time_slots(container_timeslots,delays):\n",
        "  scenario_time_slots={}\n",
        "  for scenario in Omega:\n",
        "    for c in C:\n",
        "      scenario_time_slots[c,scenario]=container_timeslots[c]+delays[scenario,c]\n",
        "  return scenario_time_slots"
      ],
      "metadata": {
        "id": "ytQ5wduiviDj"
      },
      "execution_count": null,
      "outputs": []
    },
    {
      "cell_type": "code",
      "source": [
        "scenario_time_slots=get_scenario_time_slots(container_timeslots,delays)\n",
        "print(scenario_time_slots)"
      ],
      "metadata": {
        "id": "6Kh53QSXxiZz"
      },
      "execution_count": null,
      "outputs": []
    },
    {
      "cell_type": "code",
      "source": [
        "model = ConcreteModel()\n",
        "\n",
        "###------------- Parameters -------------###\n",
        "U_max = 6\n",
        "alpha = 0.6\n",
        "MC=1.3\n",
        "\n",
        "B= range(B_max) #Bays\n",
        "S = range(S_max)  # Stacks\n",
        "L = range(L_max)  # Levels\n",
        "T = range(1, T_max + max_delay+1)  # Timestamps\n",
        "U = range(U_max)  # States\n",
        "C= range(len(initial_x))\n",
        "\n",
        "\n",
        "\n",
        "###------------- Variables -------------###\n",
        "# First stage decision Variables\n",
        "model.x = Var(C,B,S,L,U, within=Binary)\n",
        "model.w = Var(C,B,S,L,U[:-1], within=Binary) # Outgoing containers (moved from stack s)\n",
        "model.z = Var(C,B,S,L,U[:-1], within=Binary) # Incoming containers (moved to stack s)\n",
        "\n",
        "# Second stage variables\n",
        "model.c = Var(B,S,L,Omega,within=NonNegativeReals)\n",
        "\n",
        "\n",
        "###------------- Objective function -------------###\n",
        "\n",
        "N=len(Omega) # number of scenarios\n",
        "\n",
        "# First stage\n",
        "model.firstStageCost = Expression(\n",
        "    expr=alpha * sum(model.z[c,b,s,l,tau] for c in C for b in B for s in S for l in L for tau in U[:-1]))\n",
        "# Second stage\n",
        "model.secondStageCost = Expression(\n",
        "    expr=sum(model.c[b,s, l, scenario] for b in B for s in S for l in L for scenario in Omega) / N)\n",
        "\n",
        "# Total objective function: first+second stage\n",
        "model.obj = Objective(expr=model.firstStageCost + model.secondStageCost,sense=minimize)\n",
        "\n",
        "\n",
        "###------------- Constraints -------------###\n",
        "# Constraint 0: Initial container positions\n",
        "def initial_positions(model,c,b,s,l):\n",
        "    return model.x[c,b,s,l,0] == initial_x.get((c, (b,s,l)), 0)\n",
        "\n",
        "model.initial_positions_constraint = Constraint(C,B,S,L, rule=initial_positions)\n",
        "\n",
        "# Contstraint 1: Number of incoming containers = number of outgoing containers\n",
        "def balance_constraint(model,c,tau):\n",
        "    return sum(model.w[c,b,s,l,tau] for b in B for s in S for l in L) == sum(model.z[c,b,s,l,tau] for b in B for s in S for l in L)\n",
        "\n",
        "model.balance_constraint = Constraint(C,U[:-1],rule=balance_constraint)\n",
        "\n",
        "# Constraint 2: At most 1 move of each kind per time unit\n",
        "def at_most_one_w_move(model,tau):\n",
        "    return sum(model.w[c,b,s,l,tau] for c in C for b in B for s in S for l in L) <= 1\n",
        "def at_most_one_z_move(model,tau):\n",
        "    return sum(model.z[c,b,s,l,tau] for c in C for b in B for s in S for l in L) <= 1\n",
        "\n",
        "model.at_most_one_w_move_constraint = Constraint(U[:-1],rule=at_most_one_w_move)\n",
        "model.at_most_one_z_move_constraint = Constraint(U[:-1],rule=at_most_one_z_move)\n",
        "\n",
        "# Constraint: Moves are performed as early as possible.\n",
        "#for tau in U[:-2]:\n",
        "    #model.constraints.add(sum(model.w[t, s, l, tau+1] for s in S for l in L for t in T) <= sum(model.w[t, s, l, tau] for s in S for l in L for t in T))\n",
        "\n",
        "# Constraint 3: At most one container per position + if there is a container, no container can come in.\n",
        "\n",
        "def at_most_one_container_per_position(model,b,s,tau):\n",
        "    if tau<U[-1]:\n",
        "        return sum(model.x[c,b,s,0,tau] for c in C) + sum(model.z[c,b,s,0,tau] for c in C) <= 1\n",
        "    else:\n",
        "        return sum(model.x[c,b,s,0,tau] for c in C) <= 1\n",
        "\n",
        "model.at_most_one_container_per_position_constraint = Constraint(B,S,U[1:],rule=at_most_one_container_per_position)\n",
        "\n",
        "# Constraint 4: Controls topmost containers: if there is an outgoing move, the container isn't there in the next time unit.\n",
        "# if there is an incoming move, container is there in the next time unit\n",
        "\n",
        "def control_topmost_containers(model,c,b,s,l,tau):\n",
        "  return model.x[c,b,s,l,tau] + model.z[c,b,s,l,tau] == model.x[c,b,s,l,tau+1] + model.w[c,b,s,l,tau]\n",
        "\n",
        "model.control_topmost_containers_constraint = Constraint(C,B,S,L,U[:-1],rule=control_topmost_containers)\n",
        "\n",
        "# Constraint 5: Can't move if there is a container above + no floating containers\n",
        "\n",
        "def no_floating_containers(model,b,s,l,tau):\n",
        "  return sum(model.x[c,b,s,l+1,tau] for c in C) + sum(model.w[c,b,s,l,tau] for c in C) + sum(model.z[c,b,s,l+1,tau] for c in C) <= sum(model.x[c,b,s,l,tau] for c in C)\n",
        "\n",
        "model.no_floating_containers_constraint = Constraint(B,S,L[:-1],U[:-1],rule=no_floating_containers)\n",
        "\n",
        "###------------- Second stage costs: shifting costs -------------###\n",
        "\n",
        "# Constraint 6: Counts the number of misplaced containers\n",
        "def blocking_containers(model, b, s, l, l_prime,t,scenario):\n",
        "    if l_prime >= l:\n",
        "        return Constraint.Skip\n",
        "    return model.c[b,s,l,scenario] >= MC*(sum(model.x[c,b, s, l,U_max-1] for c in C if scenario_time_slots[c,scenario]>=t) - sum(model.x[c,b, s, l_prime,U_max-1]for c in C if scenario_time_slots[c,scenario]>=t))\n",
        "\n",
        "\n",
        "model.blocking_containers_constraint = Constraint(B, S, L[1:],L,T,Omega, rule=blocking_containers)\n",
        "\n",
        "# Constraint 7: Adds a cost of 0.5 if there is a container underneath with same time slot\n",
        "def same_time_slot(model, b, s, l, l_prime,t,scenario):\n",
        "    if l_prime >= l:\n",
        "        return Constraint.Skip\n",
        "    else:\n",
        "        return model.c[b,s,l,scenario] >= 0.5*(sum(model.x[c,b, s, l,U_max-1] for c in C if scenario_time_slots[c,scenario]==t)-\n",
        "                               sum(model.x[c,b, s, l_prime,U_max-1] for c in C if scenario_time_slots[c,scenario]<t)-\n",
        "                               sum(model.x[c,b, s, l_prime,U_max-1] for c in C if scenario_time_slots[c,scenario]>t))\n",
        "model.cost_shift_constraint = Constraint(B, S, L[1:],L,T,Omega, rule=same_time_slot)"
      ],
      "metadata": {
        "id": "06uHcKsBxvk8"
      },
      "execution_count": null,
      "outputs": []
    },
    {
      "cell_type": "code",
      "execution_count": null,
      "metadata": {
        "id": "zVXwqCq6j6vv"
      },
      "outputs": [],
      "source": [
        "# Solve the model\n",
        "solver = SolverFactory(\"cbc\",executable=\"/usr/bin/cbc\")\n",
        "solver.solve(model)"
      ]
    },
    {
      "cell_type": "code",
      "execution_count": null,
      "metadata": {
        "id": "UZvHu43hM8g7"
      },
      "outputs": [],
      "source": [
        "from pyomo.environ import value\n",
        "\n",
        "print(f\"First stage objective value: {value(model.firstStageCost)}\")\n",
        "print(f'Second stage objective value: {value(model.secondStageCost)}')"
      ]
    },
    {
      "cell_type": "markdown",
      "metadata": {
        "id": "xH0SaAHNrIUr"
      },
      "source": [
        "**Apply Moves**"
      ]
    },
    {
      "cell_type": "code",
      "source": [
        "new_module=apply_moves(module)\n",
        "print(new_module)"
      ],
      "metadata": {
        "id": "2zFkTKql04xT"
      },
      "execution_count": null,
      "outputs": []
    },
    {
      "cell_type": "code",
      "source": [
        "x_one_indices = [idx for idx in model.x if value(model.x[idx]) ==1 and idx[4]==U_max-1]\n",
        "\n",
        "print(\"x variables at final state equal to 1:\")\n",
        "for idx in x_one_indices:\n",
        "    print(f\"x{idx}\")"
      ],
      "metadata": {
        "id": "W2c3KOcl-ZBQ"
      },
      "execution_count": null,
      "outputs": []
    },
    {
      "cell_type": "markdown",
      "source": [
        "We can also take a look at the modules obtained in the different scenarios and their respective shifting costs."
      ],
      "metadata": {
        "id": "dHfI1LmLG3j7"
      }
    },
    {
      "cell_type": "code",
      "source": [
        "def estimate_shiftings(module):\n",
        "  return sum(CalculateShiftingCosts(module)[0].values())"
      ],
      "metadata": {
        "id": "o_rQW1f7ADIu"
      },
      "execution_count": null,
      "outputs": []
    },
    {
      "cell_type": "code",
      "source": [
        "def get_scenarios():\n",
        "  for scenario in Omega:\n",
        "    scenario_module=[]\n",
        "    for b in B:\n",
        "      bay=[]\n",
        "      for s in S:\n",
        "        stack=[]\n",
        "        for l in L:\n",
        "          c_list=[c for c in C if model.x[c,b,s,l,U_max-1].value==1]\n",
        "          if c_list:\n",
        "            c=c_list[0]\n",
        "            stack.append(Container(scenario_time_slots[c,scenario]))\n",
        "          else:\n",
        "            break\n",
        "        bay.append(Stack(stack,L_max))\n",
        "      scenario_module.append(Bay(bay,L_max))\n",
        "    module=Module(scenario_module,L_max)\n",
        "    print(f\"Scenario {scenario}:\")\n",
        "    print(module)\n",
        "    print(f'Shifting Costs: {estimate_shiftings(module)}')"
      ],
      "metadata": {
        "id": "TPu4jxsFwZGP"
      },
      "execution_count": null,
      "outputs": []
    },
    {
      "cell_type": "code",
      "source": [
        "get_scenarios()"
      ],
      "metadata": {
        "id": "3xV6hDHH7GX1"
      },
      "execution_count": null,
      "outputs": []
    },
    {
      "cell_type": "code",
      "source": [],
      "metadata": {
        "id": "-p6-TMckTMrp"
      },
      "execution_count": null,
      "outputs": []
    }
  ],
  "metadata": {
    "colab": {
      "toc_visible": true,
      "provenance": [],
      "authorship_tag": "ABX9TyPYgIWs4q+4qIs/zSdMF+xO",
      "include_colab_link": true
    },
    "kernelspec": {
      "display_name": "Python 3",
      "name": "python3"
    },
    "language_info": {
      "name": "python"
    }
  },
  "nbformat": 4,
  "nbformat_minor": 0
}